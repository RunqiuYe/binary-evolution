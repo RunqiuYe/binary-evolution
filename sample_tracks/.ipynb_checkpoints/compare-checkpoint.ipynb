{
 "cells": [
  {
   "cell_type": "code",
   "execution_count": 1,
   "id": "4449cc6d-0beb-42c7-b42c-01401c90ab63",
   "metadata": {},
   "outputs": [],
   "source": [
    "import pandas as pd\n",
    "import matplotlib.pyplot as plt\n",
    "import numpy as np"
   ]
  },
  {
   "cell_type": "code",
   "execution_count": 2,
   "id": "fbe8bce0-de7a-4f88-b04f-72a070136f6b",
   "metadata": {},
   "outputs": [],
   "source": [
    "columns = ['star_age', 'star_mass', 'star_mdot', 'he_core_mass', 'c_core_mass', 'o_core_mass', \n",
    "           'he_core_radius', 'c_core_radius', 'log_L', 'log_L_div_Ledd', 'log_LH', 'log_LHe', \n",
    "           'log_LZ', 'log_Teff', 'log_abs_Lgrav', 'log_R', 'log_g', 'surf_avg_omega', 'surf_avg_v_rot', \n",
    "           'surf_num_c12_div_num_o16', 'v_wind_Km_per_s', 'surf_avg_Lrad_div_Ledd', 'v_div_csound_surf', \n",
    "           'surface_h1', 'surface_he3', 'surface_he4', 'surface_li7', 'surface_be9', 'surface_b11', \n",
    "           'surface_c12', 'surface_c13', 'surface_n14', 'surface_o16', 'surface_f19', 'surface_ne20', \n",
    "           'surface_na23', 'surface_mg24', 'surface_si28', 'surface_s32', 'surface_ca40', 'surface_ti48', \n",
    "           'surface_fe56', 'log_center_T', 'log_center_Rho', 'center_degeneracy', 'center_omega', \n",
    "           'center_gamma', 'mass_conv_core', 'center_h1', 'center_he4', 'center_c12', 'center_n14', \n",
    "           'center_o16', 'center_ne20', 'center_mg24', 'center_si28', 'pp', 'cno', 'tri_alfa', 'burn_c', \n",
    "           'burn_n', 'burn_o', 'c12_c12', 'max_conv_vel_div_csound', 'max_gradT_div_grada', \n",
    "           'gradT_excess_alpha', 'min_Pgas_div_P', 'max_L_rad_div_Ledd', 'e_thermal', 'moment_of_inertia', \n",
    "           'mass_conv_envelope', 'rad_conv_envelope', 'envelope_binding_energy', 'dynamic_timescale', \n",
    "           'kh_timescale', 'mdot_timescale']\n",
    "outputcolumns = ['star_age', 'star_mass', 'log_L', 'log_R', 'he_core_mass', 'c_core_mass', 'log_Teff', \n",
    "                 'envelope_binding_energy', 'he_core_radius', 'c_core_radius', 'mass_conv_envelope', \n",
    "                 'rad_conv_envelope', 'age_old', 'phase']"
   ]
  },
  {
   "cell_type": "code",
   "execution_count": 3,
   "id": "e2b12452-7417-4005-b221-465c9d11c9b2",
   "metadata": {},
   "outputs": [],
   "source": [
    "outputfname = '00526M.track.eep'\n",
    "fname = 'Hydrogen/005260_history.data.eep'"
   ]
  },
  {
   "cell_type": "code",
   "execution_count": 4,
   "id": "a1c8cdfa-1ab3-48f8-b195-0e7007666aad",
   "metadata": {},
   "outputs": [
    {
     "name": "stdout",
     "output_type": "stream",
     "text": [
      "Index(['star_age', 'star_mass', 'star_mdot', 'he_core_mass', 'c_core_mass',\n",
      "       'o_core_mass', 'he_core_radius', 'c_core_radius', 'log_L',\n",
      "       'log_L_div_Ledd', 'log_LH', 'log_LHe', 'log_LZ', 'log_Teff',\n",
      "       'log_abs_Lgrav', 'log_R', 'log_g', 'surf_avg_omega', 'surf_avg_v_rot',\n",
      "       'surf_num_c12_div_num_o16', 'v_wind_Km_per_s', 'surf_avg_Lrad_div_Ledd',\n",
      "       'v_div_csound_surf', 'surface_h1', 'surface_he3', 'surface_he4',\n",
      "       'surface_li7', 'surface_be9', 'surface_b11', 'surface_c12',\n",
      "       'surface_c13', 'surface_n14', 'surface_o16', 'surface_f19',\n",
      "       'surface_ne20', 'surface_na23', 'surface_mg24', 'surface_si28',\n",
      "       'surface_s32', 'surface_ca40', 'surface_ti48', 'surface_fe56',\n",
      "       'log_center_T', 'log_center_Rho', 'center_degeneracy', 'center_omega',\n",
      "       'center_gamma', 'mass_conv_core', 'center_h1', 'center_he4',\n",
      "       'center_c12', 'center_n14', 'center_o16', 'center_ne20', 'center_mg24',\n",
      "       'center_si28', 'pp', 'cno', 'tri_alfa', 'burn_c', 'burn_n', 'burn_o',\n",
      "       'c12_c12', 'max_conv_vel_div_csound', 'max_gradT_div_grada',\n",
      "       'gradT_excess_alpha', 'min_Pgas_div_P', 'max_L_rad_div_Ledd',\n",
      "       'e_thermal', 'moment_of_inertia', 'mass_conv_envelope',\n",
      "       'rad_conv_envelope', 'envelope_binding_energy', 'dynamic_timescale',\n",
      "       'kh_timescale', 'mdot_timescale'],\n",
      "      dtype='object')\n",
      "76\n",
      "Index(['star_age', 'star_mass', 'log_L', 'log_R', 'he_core_mass',\n",
      "       'c_core_mass', 'log_Teff', 'envelope_binding_energy', 'he_core_radius',\n",
      "       'c_core_radius', 'mass_conv_envelope', 'rad_conv_envelope', 'age_old',\n",
      "       'phase'],\n",
      "      dtype='object')\n",
      "14\n"
     ]
    }
   ],
   "source": [
    "dat = np.genfromtxt(fname, skip_header=12)\n",
    "dat = pd.DataFrame(dat, columns=columns)\n",
    "print(dat.columns)\n",
    "print(len(dat.columns))\n",
    "\n",
    "outputdat = np.genfromtxt(outputfname, skip_header=211)\n",
    "outputdat = pd.DataFrame(outputdat, columns=outputcolumns)\n",
    "print(outputdat.columns)\n",
    "print(len(outputdat.columns))"
   ]
  },
  {
   "cell_type": "code",
   "execution_count": 5,
   "id": "16e497ec-f84b-4d04-86cb-29c042a0dc9d",
   "metadata": {},
   "outputs": [
    {
     "name": "stdout",
     "output_type": "stream",
     "text": [
      "202    -49.498296\n",
      "203    -49.498227\n",
      "204    -49.498158\n",
      "205    -49.498089\n",
      "206    -49.498020\n",
      "          ...    \n",
      "1404    45.352196\n",
      "1405    45.326582\n",
      "1406    45.299927\n",
      "1407    45.272527\n",
      "1408    45.245377\n",
      "Name: envelope_binding_energy, Length: 1207, dtype: float64\n",
      "0      -49.498296\n",
      "1      -49.498227\n",
      "2      -49.498158\n",
      "3      -49.498089\n",
      "4      -49.498020\n",
      "          ...    \n",
      "1202    45.352196\n",
      "1203    45.326582\n",
      "1204    45.299927\n",
      "1205    45.272527\n",
      "1206    45.245377\n",
      "Name: envelope_binding_energy, Length: 1207, dtype: float64\n"
     ]
    },
    {
     "data": {
      "image/png": "[encoded data removed]",
      "text/plain": [
       "<Figure size 640x480 with 1 Axes>"
      ]
     },
     "metadata": {},
     "output_type": "display_data"
    }
   ],
   "source": [
    "track = np.sign(dat['envelope_binding_energy']) * np.log10(np.absolute(dat['envelope_binding_energy']))\n",
    "print(track.loc[202:])\n",
    "print(outputdat['envelope_binding_energy'])\n",
    "plt.plot(track.loc[202:].reset_index(drop=True), label = \"MESA track\")\n",
    "plt.plot(outputdat['envelope_binding_energy'], label = \"interpolated\")\n",
    "plt.xlabel(\"row number\")\n",
    "plt.ylabel(r\"$\\log_{10} E_{\\mathrm{bind}}$\")\n",
    "plt.legend()\n",
    "plt.show()"
   ]
  },
  {
   "cell_type": "code",
   "execution_count": null,
   "id": "0ab6682c-ccc9-4dd6-a77b-5a7557ba61e9",
   "metadata": {},
   "outputs": [],
   "source": []
  }
 ],
 "metadata": {
  "kernelspec": {
   "display_name": "Python 3 (ipykernel)",
   "language": "python",
   "name": "python3"
  },
  "language_info": {
   "codemirror_mode": {
    "name": "ipython",
    "version": 3
   },
   "file_extension": ".py",
   "mimetype": "text/x-python",
   "name": "python",
   "nbconvert_exporter": "python",
   "pygments_lexer": "ipython3",
   "version": "3.10.14"
  }
 },
 "nbformat": 4,
 "nbformat_minor": 5
}
