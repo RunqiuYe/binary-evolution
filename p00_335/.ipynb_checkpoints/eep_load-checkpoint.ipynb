{
 "cells": [
  {
   "cell_type": "code",
   "execution_count": 4,
   "id": "ec1d1031-86f1-4f7d-8272-96cedc43a9be",
   "metadata": {},
   "outputs": [],
   "source": [
    "import pandas as pd\n",
    "import matplotlib.pyplot as plt\n",
    "import numpy as np"
   ]
  },
  {
   "cell_type": "code",
   "execution_count": 6,
   "id": "b2600e41-8b4a-49f1-8175-60f5492e1478",
   "metadata": {},
   "outputs": [
    {
     "ename": "FileNotFoundError",
     "evalue": "../data/p00_335/eeps/00074989_history.data.eep not found.",
     "output_type": "error",
     "traceback": [
      "\u001b[0;31m---------------------------------------------------------------------------\u001b[0m",
      "\u001b[0;31mFileNotFoundError\u001b[0m                         Traceback (most recent call last)",
      "Cell \u001b[0;32mIn[6], line 46\u001b[0m\n\u001b[1;32m     30\u001b[0m columns \u001b[38;5;241m=\u001b[39m [\u001b[38;5;124m'\u001b[39m\u001b[38;5;124mstar_age\u001b[39m\u001b[38;5;124m'\u001b[39m, \u001b[38;5;124m'\u001b[39m\u001b[38;5;124mstar_mass\u001b[39m\u001b[38;5;124m'\u001b[39m, \u001b[38;5;124m'\u001b[39m\u001b[38;5;124mstar_mdot\u001b[39m\u001b[38;5;124m'\u001b[39m, \u001b[38;5;124m'\u001b[39m\u001b[38;5;124mhe_core_mass\u001b[39m\u001b[38;5;124m'\u001b[39m, \u001b[38;5;124m'\u001b[39m\u001b[38;5;124mc_core_mass\u001b[39m\u001b[38;5;124m'\u001b[39m, \u001b[38;5;124m'\u001b[39m\u001b[38;5;124mo_core_mass\u001b[39m\u001b[38;5;124m'\u001b[39m, \n\u001b[1;32m     31\u001b[0m            \u001b[38;5;124m'\u001b[39m\u001b[38;5;124mhe_core_radius\u001b[39m\u001b[38;5;124m'\u001b[39m, \u001b[38;5;124m'\u001b[39m\u001b[38;5;124mc_core_radius\u001b[39m\u001b[38;5;124m'\u001b[39m, \u001b[38;5;124m'\u001b[39m\u001b[38;5;124mlog_L\u001b[39m\u001b[38;5;124m'\u001b[39m, \u001b[38;5;124m'\u001b[39m\u001b[38;5;124mlog_L_div_Ledd\u001b[39m\u001b[38;5;124m'\u001b[39m, \u001b[38;5;124m'\u001b[39m\u001b[38;5;124mlog_LH\u001b[39m\u001b[38;5;124m'\u001b[39m, \u001b[38;5;124m'\u001b[39m\u001b[38;5;124mlog_LHe\u001b[39m\u001b[38;5;124m'\u001b[39m, \n\u001b[1;32m     32\u001b[0m            \u001b[38;5;124m'\u001b[39m\u001b[38;5;124mlog_LZ\u001b[39m\u001b[38;5;124m'\u001b[39m, \u001b[38;5;124m'\u001b[39m\u001b[38;5;124mlog_Teff\u001b[39m\u001b[38;5;124m'\u001b[39m, \u001b[38;5;124m'\u001b[39m\u001b[38;5;124mlog_abs_Lgrav\u001b[39m\u001b[38;5;124m'\u001b[39m, \u001b[38;5;124m'\u001b[39m\u001b[38;5;124mlog_R\u001b[39m\u001b[38;5;124m'\u001b[39m, \u001b[38;5;124m'\u001b[39m\u001b[38;5;124mlog_g\u001b[39m\u001b[38;5;124m'\u001b[39m, \u001b[38;5;124m'\u001b[39m\u001b[38;5;124msurf_avg_omega\u001b[39m\u001b[38;5;124m'\u001b[39m, \u001b[38;5;124m'\u001b[39m\u001b[38;5;124msurf_avg_v_rot\u001b[39m\u001b[38;5;124m'\u001b[39m, \n\u001b[0;32m   (...)\u001b[0m\n\u001b[1;32m     42\u001b[0m            \u001b[38;5;124m'\u001b[39m\u001b[38;5;124mmass_conv_envelope\u001b[39m\u001b[38;5;124m'\u001b[39m, \u001b[38;5;124m'\u001b[39m\u001b[38;5;124mrad_conv_envelope\u001b[39m\u001b[38;5;124m'\u001b[39m, \u001b[38;5;124m'\u001b[39m\u001b[38;5;124menvelope_binding_energy\u001b[39m\u001b[38;5;124m'\u001b[39m, \u001b[38;5;124m'\u001b[39m\u001b[38;5;124mdynamic_timescale\u001b[39m\u001b[38;5;124m'\u001b[39m, \n\u001b[1;32m     43\u001b[0m            \u001b[38;5;124m'\u001b[39m\u001b[38;5;124mkh_timescale\u001b[39m\u001b[38;5;124m'\u001b[39m, \u001b[38;5;124m'\u001b[39m\u001b[38;5;124mmdot_timescale\u001b[39m\u001b[38;5;124m'\u001b[39m]\n\u001b[1;32m     45\u001b[0m \u001b[38;5;28;01mfor\u001b[39;00m f \u001b[38;5;129;01min\u001b[39;00m fname[\u001b[38;5;241m50\u001b[39m:\u001b[38;5;241m51\u001b[39m]:\n\u001b[0;32m---> 46\u001b[0m     dat \u001b[38;5;241m=\u001b[39m \u001b[43mnp\u001b[49m\u001b[38;5;241;43m.\u001b[39;49m\u001b[43mgenfromtxt\u001b[49m\u001b[43m(\u001b[49m\u001b[38;5;124;43m'\u001b[39;49m\u001b[38;5;124;43m../data/p00_335/eeps/\u001b[39;49m\u001b[38;5;124;43m'\u001b[39;49m\u001b[38;5;241;43m+\u001b[39;49m\u001b[43mf\u001b[49m\u001b[43m,\u001b[49m\u001b[43m \u001b[49m\u001b[43mskip_header\u001b[49m\u001b[38;5;241;43m=\u001b[39;49m\u001b[38;5;241;43m12\u001b[39;49m\u001b[43m)\u001b[49m\n\u001b[1;32m     47\u001b[0m     dat \u001b[38;5;241m=\u001b[39m pd\u001b[38;5;241m.\u001b[39mDataFrame(dat, columns\u001b[38;5;241m=\u001b[39mcolums)\n\u001b[1;32m     48\u001b[0m     \u001b[38;5;28mprint\u001b[39m(dat)\n",
      "File \u001b[0;32m~/miniconda3/envs/cosmic/lib/python3.10/site-packages/numpy/lib/npyio.py:1980\u001b[0m, in \u001b[0;36mgenfromtxt\u001b[0;34m(fname, dtype, comments, delimiter, skip_header, skip_footer, converters, missing_values, filling_values, usecols, names, excludelist, deletechars, replace_space, autostrip, case_sensitive, defaultfmt, unpack, usemask, loose, invalid_raise, max_rows, encoding, ndmin, like)\u001b[0m\n\u001b[1;32m   1978\u001b[0m     fname \u001b[38;5;241m=\u001b[39m os_fspath(fname)\n\u001b[1;32m   1979\u001b[0m \u001b[38;5;28;01mif\u001b[39;00m \u001b[38;5;28misinstance\u001b[39m(fname, \u001b[38;5;28mstr\u001b[39m):\n\u001b[0;32m-> 1980\u001b[0m     fid \u001b[38;5;241m=\u001b[39m \u001b[43mnp\u001b[49m\u001b[38;5;241;43m.\u001b[39;49m\u001b[43mlib\u001b[49m\u001b[38;5;241;43m.\u001b[39;49m\u001b[43m_datasource\u001b[49m\u001b[38;5;241;43m.\u001b[39;49m\u001b[43mopen\u001b[49m\u001b[43m(\u001b[49m\u001b[43mfname\u001b[49m\u001b[43m,\u001b[49m\u001b[43m \u001b[49m\u001b[38;5;124;43m'\u001b[39;49m\u001b[38;5;124;43mrt\u001b[39;49m\u001b[38;5;124;43m'\u001b[39;49m\u001b[43m,\u001b[49m\u001b[43m \u001b[49m\u001b[43mencoding\u001b[49m\u001b[38;5;241;43m=\u001b[39;49m\u001b[43mencoding\u001b[49m\u001b[43m)\u001b[49m\n\u001b[1;32m   1981\u001b[0m     fid_ctx \u001b[38;5;241m=\u001b[39m contextlib\u001b[38;5;241m.\u001b[39mclosing(fid)\n\u001b[1;32m   1982\u001b[0m \u001b[38;5;28;01melse\u001b[39;00m:\n",
      "File \u001b[0;32m~/miniconda3/envs/cosmic/lib/python3.10/site-packages/numpy/lib/_datasource.py:193\u001b[0m, in \u001b[0;36mopen\u001b[0;34m(path, mode, destpath, encoding, newline)\u001b[0m\n\u001b[1;32m    156\u001b[0m \u001b[38;5;250m\u001b[39m\u001b[38;5;124;03m\"\"\"\u001b[39;00m\n\u001b[1;32m    157\u001b[0m \u001b[38;5;124;03mOpen `path` with `mode` and return the file object.\u001b[39;00m\n\u001b[1;32m    158\u001b[0m \n\u001b[0;32m   (...)\u001b[0m\n\u001b[1;32m    189\u001b[0m \n\u001b[1;32m    190\u001b[0m \u001b[38;5;124;03m\"\"\"\u001b[39;00m\n\u001b[1;32m    192\u001b[0m ds \u001b[38;5;241m=\u001b[39m DataSource(destpath)\n\u001b[0;32m--> 193\u001b[0m \u001b[38;5;28;01mreturn\u001b[39;00m \u001b[43mds\u001b[49m\u001b[38;5;241;43m.\u001b[39;49m\u001b[43mopen\u001b[49m\u001b[43m(\u001b[49m\u001b[43mpath\u001b[49m\u001b[43m,\u001b[49m\u001b[43m \u001b[49m\u001b[43mmode\u001b[49m\u001b[43m,\u001b[49m\u001b[43m \u001b[49m\u001b[43mencoding\u001b[49m\u001b[38;5;241;43m=\u001b[39;49m\u001b[43mencoding\u001b[49m\u001b[43m,\u001b[49m\u001b[43m \u001b[49m\u001b[43mnewline\u001b[49m\u001b[38;5;241;43m=\u001b[39;49m\u001b[43mnewline\u001b[49m\u001b[43m)\u001b[49m\n",
      "File \u001b[0;32m~/miniconda3/envs/cosmic/lib/python3.10/site-packages/numpy/lib/_datasource.py:533\u001b[0m, in \u001b[0;36mDataSource.open\u001b[0;34m(self, path, mode, encoding, newline)\u001b[0m\n\u001b[1;32m    530\u001b[0m     \u001b[38;5;28;01mreturn\u001b[39;00m _file_openers[ext](found, mode\u001b[38;5;241m=\u001b[39mmode,\n\u001b[1;32m    531\u001b[0m                               encoding\u001b[38;5;241m=\u001b[39mencoding, newline\u001b[38;5;241m=\u001b[39mnewline)\n\u001b[1;32m    532\u001b[0m \u001b[38;5;28;01melse\u001b[39;00m:\n\u001b[0;32m--> 533\u001b[0m     \u001b[38;5;28;01mraise\u001b[39;00m \u001b[38;5;167;01mFileNotFoundError\u001b[39;00m(\u001b[38;5;124mf\u001b[39m\u001b[38;5;124m\"\u001b[39m\u001b[38;5;132;01m{\u001b[39;00mpath\u001b[38;5;132;01m}\u001b[39;00m\u001b[38;5;124m not found.\u001b[39m\u001b[38;5;124m\"\u001b[39m)\n",
      "\u001b[0;31mFileNotFoundError\u001b[0m: ../data/p00_335/eeps/00074989_history.data.eep not found."
     ]
    }
   ],
   "source": [
    "fname = ['00001000_history.data.eep', '00001090_history.data.eep', '00001188_history.data.eep', \n",
    "         '00001295_history.data.eep', '00001412_history.data.eep', '00001539_history.data.eep', \n",
    "         '00001678_history.data.eep', '00001830_history.data.eep', '00001995_history.data.eep', \n",
    "         '00002175_history.data.eep', '00002371_history.data.eep', '00002585_history.data.eep', \n",
    "         '00002818_history.data.eep', '00003072_history.data.eep', '00003349_history.data.eep', \n",
    "         '00003651_history.data.eep', '00003981_history.data.eep', '00004340_history.data.eep', \n",
    "         '00004731_history.data.eep', '00005158_history.data.eep', '00005623_history.data.eep', \n",
    "         '00006130_history.data.eep', '00006683_history.data.eep', '00007286_history.data.eep', \n",
    "         '00007943_history.data.eep', '00008659_history.data.eep', '00009440_history.data.eep', \n",
    "         '00010292_history.data.eep', '00011220_history.data.eep', '00012232_history.data.eep', \n",
    "         '00013335_history.data.eep', '00014537_history.data.eep', '00015848_history.data.eep', \n",
    "         '00017278_history.data.eep', '00018836_history.data.eep', '00020535_history.data.eep', \n",
    "         '00022387_history.data.eep', '00024406_history.data.eep', '00026607_history.data.eep', \n",
    "         '00029006_history.data.eep', '00031622_history.data.eep', '00034474_history.data.eep', \n",
    "         '00037583_history.data.eep', '00040973_history.data.eep', '00044668_history.data.eep', \n",
    "         '00048696_history.data.eep', '00053088_history.data.eep', '00057876_history.data.eep', \n",
    "         '00063095_history.data.eep', '00068785_history.data.eep', '00074989_history.data.eep', \n",
    "         '00081752_history.data.eep', '00089125_history.data.eep', '00097162_history.data.eep', \n",
    "         '00105925_history.data.eep', '00115478_history.data.eep', '00125892_history.data.eep', \n",
    "         '00137246_history.data.eep', '00149623_history.data.eep', '00163117_history.data.eep', \n",
    "         '00177827_history.data.eep', '00193865_history.data.eep', '00211348_history.data.eep', \n",
    "         '00230409_history.data.eep', '00251188_history.data.eep', '00273841_history.data.eep', \n",
    "         '00298538_history.data.eep', '00325461_history.data.eep', '00354813_history.data.eep', \n",
    "         '00386812_history.data.eep', '00421696_history.data.eep', '00459726_history.data.eep', \n",
    "         '00501187_history.data.eep', '00546386_history.data.eep', '00595662_history.data.eep', \n",
    "         '00649381_history.data.eep', '00771791_history.data.eep', '00841395_history.data.eep', \n",
    "         '00917275_history.data.eep', '01000000_history.data.eep', '01250000_history.data.eep', \n",
    "         '01500000_history.data.eep', '01750000_history.data.eep', '02000000_history.data.eep']\n",
    "\n",
    "columns = ['star_age', 'star_mass', 'star_mdot', 'he_core_mass', 'c_core_mass', 'o_core_mass', \n",
    "           'he_core_radius', 'c_core_radius', 'log_L', 'log_L_div_Ledd', 'log_LH', 'log_LHe', \n",
    "           'log_LZ', 'log_Teff', 'log_abs_Lgrav', 'log_R', 'log_g', 'surf_avg_omega', 'surf_avg_v_rot', \n",
    "           'surf_num_c12_div_num_o16', 'v_wind_Km_per_s', 'surf_avg_Lrad_div_Ledd', 'v_div_csound_surf', \n",
    "           'surface_h1', 'surface_he3', 'surface_he4', 'surface_li7', 'surface_be9', 'surface_b11', \n",
    "           'surface_c12', 'surface_c13', 'surface_n14', 'surface_o16', 'surface_f19', 'surface_ne20', \n",
    "           'surface_na23', 'surface_mg24', 'surface_si28', 'surface_s32', 'surface_ca40', 'surface_ti48', \n",
    "           'surface_fe56', 'log_center_T', 'log_center_Rho', 'center_degeneracy', 'center_omega', \n",
    "           'center_gamma', 'mass_conv_core', 'center_h1', 'center_he4', 'center_c12', 'center_n14', \n",
    "           'center_o16', 'center_ne20', 'center_mg24', 'center_si28', 'pp', 'cno', 'tri_alfa', 'burn_c', \n",
    "           'burn_n', 'burn_o', 'c12_c12', 'max_conv_vel_div_csound', 'max_gradT_div_grada', \n",
    "           'gradT_excess_alpha', 'min_Pgas_div_P', 'max_L_rad_div_Ledd', 'e_thermal', 'moment_of_inertia', \n",
    "           'mass_conv_envelope', 'rad_conv_envelope', 'envelope_binding_energy', 'dynamic_timescale', \n",
    "           'kh_timescale', 'mdot_timescale']\n",
    "\n",
    "for f in fname[50:51]:\n",
    "    dat = np.genfromtxt('./'+f, skip_header=12)\n",
    "    dat = pd.DataFrame(dat, columns=colums)\n",
    "    print(dat)"
   ]
  },
  {
   "cell_type": "code",
   "execution_count": 14,
   "id": "0130a2be-900c-4cd6-bf40-b0353522ee30",
   "metadata": {},
   "outputs": [
    {
     "name": "stdout",
     "output_type": "stream",
     "text": [
      "\u001b[31mH_Z1p23em4_metallicity.in\u001b[m\u001b[m \u001b[30m\u001b[43meeps\u001b[m\u001b[m                      \u001b[31mformat_iso_bgb.dat\u001b[m\u001b[m\n"
     ]
    }
   ],
   "source": []
  },
  {
   "cell_type": "code",
   "execution_count": null,
   "id": "f273cf28-218c-4488-bccb-34bca03e0052",
   "metadata": {},
   "outputs": [],
   "source": [
    "plt.plot()"
   ]
  }
 ],
 "metadata": {
  "kernelspec": {
   "display_name": "Python 3 (ipykernel)",
   "language": "python",
   "name": "python3"
  },
  "language_info": {
   "codemirror_mode": {
    "name": "ipython",
    "version": 3
   },
   "file_extension": ".py",
   "mimetype": "text/x-python",
   "name": "python",
   "nbconvert_exporter": "python",
   "pygments_lexer": "ipython3",
   "version": "3.10.14"
  }
 },
 "nbformat": 4,
 "nbformat_minor": 5
}
