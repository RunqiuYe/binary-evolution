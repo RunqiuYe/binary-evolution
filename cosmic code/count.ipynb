{
 "cells": [
  {
   "cell_type": "code",
   "execution_count": 1,
   "id": "a8b6f26f-acc6-4f9d-bcf8-7e4ba135ed5b",
   "metadata": {},
   "outputs": [],
   "source": [
    "from cosmic.sample.initialbinarytable import InitialBinaryTable\n",
    "from cosmic.evolve import Evolve\n",
    "from cosmic.utils import convert_kstar_evol_type\n",
    "from cosmic.plotting import evolve_and_plot\n",
    "\n",
    "import numpy as np\n",
    "import matplotlib.pyplot as plt\n",
    "import tqdm"
   ]
  },
  {
   "cell_type": "code",
   "execution_count": 2,
   "id": "6051d457-5c99-4b31-9f27-18a321b74223",
   "metadata": {},
   "outputs": [],
   "source": [
    "# Helper functions and variables for unit conversions\n",
    "\n",
    "def aui_to_porb(aui, m_tot):\n",
    "    # aui: a list of values, initial separation in AU\n",
    "    # m_tot: a list of values, total mass in M_sun\n",
    "    # result: a list of values, orbital period in given condition in days\n",
    "    res = []\n",
    "    for i in range(len(aui)):\n",
    "        res.append((1/m_tot[i]**0.5) * (aui[i]**1.5) * 365)\n",
    "    return res\n",
    "\n",
    "# Used to convert separation in R_sun into AU\n",
    "unit_factor = 1 / 215.032\n",
    "\n",
    "# Helper function: given an array of data and an array of target,\n",
    "# return an array of index that is nearest to the target value.\n",
    "import math \n",
    "def findNearestList(data, targetList):\n",
    "    res = []\n",
    "    for num in targetList:\n",
    "        res.append(findNearest(data, num))\n",
    "    return res\n",
    "\n",
    "def findNearest(data, target):\n",
    "    n = len(data)\n",
    "    res = -1\n",
    "    minDiff = 10**5\n",
    "    for i in range(n):\n",
    "        if data[i] == 10**(-5):\n",
    "            continue\n",
    "        if abs(target - data[i]) <= minDiff:\n",
    "            res = i\n",
    "            minDiff = abs(target - data[i])\n",
    "    return res"
   ]
  },
  {
   "cell_type": "code",
   "execution_count": 25,
   "id": "84635876-48e2-42f8-8172-4e80ca222548",
   "metadata": {},
   "outputs": [],
   "source": [
    "# Default BSEDict\n",
    "BSEDict = {'xi': 1.0, 'bhflag': 1, 'neta': 0.5, 'windflag': 3, 'wdflag': 1, 'alpha1': [1.0]*15, 'pts1': 0.001, \n",
    "           'pts3': 0.02, 'pts2': 0.01, 'epsnov': 0.001, 'hewind': 0.5, 'ck': 1000, 'bwind': 0.0, 'lambdaf': 0.0, \n",
    "           'mxns': 3.0, 'beta': -1.0, 'tflag': 1, 'acc2': 1.5, 'grflag' : 1, 'remnantflag': 4, 'ceflag': 0, \n",
    "           'eddfac': 1.0, 'ifflag': 0, 'bconst': 3000, 'sigma': 265.0, 'gamma': -2.0, 'pisn': 45.0, \n",
    "           'natal_kick_array' : [[-100.0,-100.0,-100.0,-100.0,0.0], [-100.0,-100.0,-100.0,-100.0,0.0]], \n",
    "           'bhsigmafrac' : 1.0, 'polar_kick_angle' : 90, \n",
    "           'qcrit_array' : [0.0,0.0,0.0,0.0,0.0,0.0,0.0,0.0,0.0,0.0,0.0,0.0,0.0,0.0,0.0,0.0], \n",
    "           'cekickflag' : 2, 'cehestarflag' : 0, 'cemergeflag' : 0, 'ecsn' : 2.25, 'ecsn_mlow' : 1.6, \n",
    "           'aic' : 1, 'ussn' : 0, 'sigmadiv' :-20.0, 'qcflag' : 1, 'eddlimflag' : 0, \n",
    "           'fprimc_array' : [2.0/21.0,2.0/21.0,2.0/21.0,2.0/21.0,2.0/21.0,2.0/21.0,2.0/21.0,2.0/21.0,2.0/21.0,2.0/21.0,2.0/21.0,2.0/21.0,2.0/21.0,2.0/21.0,2.0/21.0,2.0/21.0], \n",
    "           'bhspinflag' : 0, 'bhspinmag' : 0.0, 'rejuv_fac' : 1.0, 'rejuvflag' : 0, 'htpmb' : 1, 'ST_cr' : 1, \n",
    "           'ST_tide' : 1, 'bdecayfac' : 1, 'rembar_massloss' : 0.5, 'kickflag' : 0, 'zsun' : 0.014, 'bhms_coll_flag' : 0, \n",
    "           'don_lim' : -1, 'acc_lim' : [-1]*15, 'rtmsflag' : 0, 'wd_mass_lim': 1}"
   ]
  },
  {
   "cell_type": "code",
   "execution_count": 19,
   "id": "6c889896-4cbb-4832-845e-39a3178599f3",
   "metadata": {},
   "outputs": [],
   "source": [
    "NUM_DICT = 2000\n",
    "NUM_SEP = 400\n",
    "\n",
    "MASS_1 = 7\n",
    "MASS_2 = 1\n",
    "MASS_TOT = 8\n",
    "\n",
    "ECC = 0\n",
    "\n",
    "SEP_START = 2\n",
    "SEP_END = 8\n",
    "\n",
    "LAMBDA_START = -100\n",
    "LAMBDA_END = 0\n",
    "\n",
    "SOLAR_MET = 0.02\n",
    "\n",
    "TPHYS_LIM = 200"
   ]
  },
  {
   "cell_type": "code",
   "execution_count": 20,
   "id": "702985d5-e476-40c5-aed9-0b05ac6b93d0",
   "metadata": {},
   "outputs": [],
   "source": [
    "# List of initial conditions for simulation later\n",
    "\n",
    "m1_list = [MASS_1 for i in range(NUM_SEP)]\n",
    "m2_list = [MASS_2 for i in range(NUM_SEP)]\n",
    "mtot_list = [MASS_TOT for i in range(NUM_SEP)]\n",
    "ai_list = np.linspace(SEP_START, SEP_END, NUM_SEP)\n",
    "porb_i_list = aui_to_porb(ai_list, mtot_list)\n",
    "\n",
    "ecc_list = [ECC for i in range(NUM_SEP)]\n",
    "tphysf_list = [TPHYS_LIM for i in range(NUM_SEP)]\n",
    "kstar1_list = [1 for i in range(NUM_SEP)]\n",
    "kstar2_list = [1 for i in range(NUM_SEP)]\n",
    "metallicity_list = [SOLAR_MET for i in range(NUM_SEP)] # solar metallicity"
   ]
  },
  {
   "cell_type": "code",
   "execution_count": 21,
   "id": "07cf134c-cc13-4b99-b6e4-b5389c44f9a6",
   "metadata": {},
   "outputs": [
    {
     "name": "stdout",
     "output_type": "stream",
     "text": [
      "[-1.000e+02 -9.995e+01 -9.990e+01 ... -1.500e-01 -1.000e-01 -5.000e-02]\n"
     ]
    }
   ],
   "source": [
    "# Create a list of BSEDict for different lambdaf values\n",
    "# lambdaf ranges from 0 to -10 with NUM_DICT values in between\n",
    "\n",
    "lambdaList = np.linspace(LAMBDA_START, LAMBDA_END, NUM_DICT, endpoint=False)\n",
    "print(lambdaList)\n",
    "\n",
    "BSEDictList = [BSEDict.copy() for i in range(NUM_DICT)]\n",
    "for i in range(NUM_DICT):\n",
    "    BSEDictList[i]['lambdaf'] = lambdaList[i]"
   ]
  },
  {
   "cell_type": "code",
   "execution_count": 22,
   "id": "134a9dc4-043c-41ee-aeb9-29d38b6cffba",
   "metadata": {},
   "outputs": [],
   "source": [
    "# List of initial conditions for simulation later\n",
    "\n",
    "m1_list = [MASS_1 for i in range(NUM_SEP)]\n",
    "m2_list = [MASS_2 for i in range(NUM_SEP)]\n",
    "mtot_list = [MASS_TOT for i in range(NUM_SEP)]\n",
    "ai_list = np.linspace(SEP_START, SEP_END, NUM_SEP)\n",
    "porb_i_list = aui_to_porb(ai_list, mtot_list)\n",
    "\n",
    "ecc_list = [ECC for i in range(NUM_SEP)]\n",
    "tphysf_list = [TPHYS_LIM for i in range(NUM_SEP)]\n",
    "kstar1_list = [1 for i in range(NUM_SEP)]\n",
    "kstar2_list = [1 for i in range(NUM_SEP)]\n",
    "metallicity_list = [SOLAR_MET for i in range(NUM_SEP)] # solar metallicity"
   ]
  },
  {
   "cell_type": "code",
   "execution_count": 23,
   "id": "618f53db-d658-451f-b819-e0b7cff42686",
   "metadata": {},
   "outputs": [],
   "source": [
    "single_binary = InitialBinaryTable.InitialBinaries(m1=7, m2=1, porb=porb_i_list[0], ecc=0, tphysf=TPHYS_LIM, kstar1=1, kstar2=1, metallicity=SOLAR_MET)"
   ]
  },
  {
   "cell_type": "code",
   "execution_count": 26,
   "id": "7c737ea8-1598-4b94-a660-b50ad1e6fe11",
   "metadata": {},
   "outputs": [
    {
     "ename": "ValueError",
     "evalue": "If you are passing BSE parameters as columns in the initial binary table you must also pass SSE parameters in the initial binary table.",
     "output_type": "error",
     "traceback": [
      "\u001b[0;31m---------------------------------------------------------------------------\u001b[0m",
      "\u001b[0;31mValueError\u001b[0m                                Traceback (most recent call last)",
      "Cell \u001b[0;32mIn[26], line 1\u001b[0m\n\u001b[0;32m----> 1\u001b[0m bpp, bcm, initC, kick_info \u001b[38;5;241m=\u001b[39m \u001b[43mEvolve\u001b[49m\u001b[38;5;241;43m.\u001b[39;49m\u001b[43mevolve\u001b[49m\u001b[43m(\u001b[49m\u001b[43minitialbinarytable\u001b[49m\u001b[38;5;241;43m=\u001b[39;49m\u001b[43msingle_binary\u001b[49m\u001b[43m,\u001b[49m\u001b[43m \u001b[49m\u001b[43mBSEDict\u001b[49m\u001b[38;5;241;43m=\u001b[39;49m\u001b[43mBSEDict\u001b[49m\u001b[43m)\u001b[49m\n",
      "File \u001b[0;32m/usr/local/Caskroom/miniconda/base/envs/cosmic/lib/python3.10/site-packages/cosmic/evolve.py:351\u001b[0m, in \u001b[0;36mEvolve.evolve\u001b[0;34m(cls, initialbinarytable, pool, **kwargs)\u001b[0m\n\u001b[1;32m    344\u001b[0m         \u001b[38;5;28;01mraise\u001b[39;00m \u001b[38;5;167;01mValueError\u001b[39;00m(\u001b[38;5;124m\"\u001b[39m\u001b[38;5;124mYou are passing BSE parameters as columns in the \u001b[39m\u001b[38;5;124m\"\u001b[39m\n\u001b[1;32m    345\u001b[0m                          \u001b[38;5;124m\"\u001b[39m\u001b[38;5;124minitial binary table but not all BSE parameters are defined. \u001b[39m\u001b[38;5;124m\"\u001b[39m\n\u001b[1;32m    346\u001b[0m                          \u001b[38;5;124m\"\u001b[39m\u001b[38;5;124mPlease pass a BSEDict or a params file or make sure \u001b[39m\u001b[38;5;124m\"\u001b[39m\n\u001b[1;32m    347\u001b[0m                          \u001b[38;5;124m\"\u001b[39m\u001b[38;5;124myou have all BSE parameters as columns \u001b[39m\u001b[38;5;132;01m{0}\u001b[39;00m\u001b[38;5;124m or \u001b[39m\u001b[38;5;132;01m{1}\u001b[39;00m\u001b[38;5;124m.\u001b[39m\u001b[38;5;124m\"\u001b[39m\u001b[38;5;241m.\u001b[39mformat(\n\u001b[1;32m    348\u001b[0m                           INITIAL_BINARY_TABLE_SAVE_COLUMNS, INITIAL_CONDITIONS_PASS_COLUMNS))\n\u001b[1;32m    350\u001b[0m \u001b[38;5;28;01mif\u001b[39;00m (BSEDict \u001b[38;5;129;01mand\u001b[39;00m \u001b[38;5;129;01mnot\u001b[39;00m SSEDict) \u001b[38;5;129;01mor\u001b[39;00m (SSEDict \u001b[38;5;129;01mand\u001b[39;00m \u001b[38;5;129;01mnot\u001b[39;00m BSEDict):\n\u001b[0;32m--> 351\u001b[0m     \u001b[38;5;28;01mraise\u001b[39;00m \u001b[38;5;167;01mValueError\u001b[39;00m(\u001b[38;5;124m\"\u001b[39m\u001b[38;5;124mIf you are passing BSE parameters as columns in the \u001b[39m\u001b[38;5;124m\"\u001b[39m\n\u001b[1;32m    352\u001b[0m                      \u001b[38;5;124m\"\u001b[39m\u001b[38;5;124minitial binary table you must also pass SSE parameters \u001b[39m\u001b[38;5;124m\"\u001b[39m\n\u001b[1;32m    353\u001b[0m                      \u001b[38;5;124m\"\u001b[39m\u001b[38;5;124min the initial binary table.\u001b[39m\u001b[38;5;124m\"\u001b[39m)\n\u001b[1;32m    355\u001b[0m \u001b[38;5;66;03m# If you did not supply the natal kick or qcrit_array or fprimc_array in the BSEdict then we construct\u001b[39;00m\n\u001b[1;32m    356\u001b[0m \u001b[38;5;66;03m# it from the initial conditions table\u001b[39;00m\n\u001b[1;32m    357\u001b[0m \u001b[38;5;28;01mif\u001b[39;00m ((pd\u001b[38;5;241m.\u001b[39mSeries(FLATTENED_NATAL_KICK_COLUMNS)\u001b[38;5;241m.\u001b[39misin(initialbinarytable\u001b[38;5;241m.\u001b[39mkeys())\u001b[38;5;241m.\u001b[39mall()) \u001b[38;5;129;01mand\u001b[39;00m\n\u001b[1;32m    358\u001b[0m    (\u001b[38;5;124m'\u001b[39m\u001b[38;5;124mnatal_kick_array\u001b[39m\u001b[38;5;124m'\u001b[39m \u001b[38;5;129;01mnot\u001b[39;00m \u001b[38;5;129;01min\u001b[39;00m BSEDict)):\n",
      "\u001b[0;31mValueError\u001b[0m: If you are passing BSE parameters as columns in the initial binary table you must also pass SSE parameters in the initial binary table."
     ]
    }
   ],
   "source": [
    "bpp, bcm, initC, kick_info = Evolve.evolve(initialbinarytable=single_binary, BSEDict=BSEDict)"
   ]
  },
  {
   "cell_type": "code",
   "execution_count": null,
   "id": "fad27326-1f44-4cda-b082-d7f2426a56c7",
   "metadata": {},
   "outputs": [],
   "source": []
  }
 ],
 "metadata": {
  "kernelspec": {
   "display_name": "Python 3 (ipykernel)",
   "language": "python",
   "name": "python3"
  },
  "language_info": {
   "codemirror_mode": {
    "name": "ipython",
    "version": 3
   },
   "file_extension": ".py",
   "mimetype": "text/x-python",
   "name": "python",
   "nbconvert_exporter": "python",
   "pygments_lexer": "ipython3",
   "version": "3.10.14"
  }
 },
 "nbformat": 4,
 "nbformat_minor": 5
}
