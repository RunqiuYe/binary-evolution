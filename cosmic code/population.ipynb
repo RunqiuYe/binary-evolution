{
 "cells": [
  {
   "cell_type": "code",
   "execution_count": 1,
   "id": "efade461-4ce7-4c24-a4a4-2ec72e3123e0",
   "metadata": {},
   "outputs": [],
   "source": [
    "from cosmic.sample.initialbinarytable import InitialBinaryTable\n",
    "from cosmic.sample.sampler import independent\n",
    "import pandas as pd\n",
    "import matplotlib.pyplot as plt"
   ]
  },
  {
   "cell_type": "code",
   "execution_count": 2,
   "id": "f1bd976d-0fc2-4761-8e08-306f698d2ee2",
   "metadata": {},
   "outputs": [
    {
     "name": "stdout",
     "output_type": "stream",
     "text": [
      "Help on function get_independent_sampler in module cosmic.sample.sampler.independent:\n",
      "\n",
      "get_independent_sampler(final_kstar1, final_kstar2, primary_model, ecc_model, porb_model, SF_start, SF_duration, binfrac_model, met, size=None, total_mass=inf, sampling_target='size', trim_extra_samples=False, **kwargs)\n",
      "    Generates an initial binary sample according to user specified models\n",
      "    \n",
      "    Parameters\n",
      "    ----------\n",
      "    final_kstar1 : `int or list`\n",
      "        Int or list of final kstar1\n",
      "    \n",
      "    final_kstar2 : `int or list`\n",
      "        Int or list of final kstar2\n",
      "    \n",
      "    primary_model : `str`\n",
      "        Model to sample primary mass; choices include: kroupa93, kroupa01, salpeter55, custom\n",
      "        if 'custom' is selected, must also pass arguemts:\n",
      "        alphas : `array`\n",
      "            list of power law indicies\n",
      "        mcuts : `array`\n",
      "            breaks in the power laws.\n",
      "        e.g. alphas=[-1.3,-2.3,-2.3],mcuts=[0.08,0.5,1.0,150.] reproduces standard Kroupa2001 IMF\n",
      "    \n",
      "    ecc_model : `str`\n",
      "        Model to sample eccentricity; choices include: thermal, uniform, sana12\n",
      "    \n",
      "    porb_model : `str`\n",
      "        Model to sample orbital period; choices include: log_uniform, sana12, raghavan10, moe19\n",
      "    \n",
      "    qmin : `float`\n",
      "        kwarg which sets the minimum mass ratio for sampling the secondary\n",
      "        where the mass ratio distribution is flat in q\n",
      "        if q > 0, qmin sets the minimum mass ratio\n",
      "        q = -1, this limits the minimum mass ratio to be set such that\n",
      "        the pre-MS lifetime of the secondary is not longer than the full\n",
      "        lifetime of the primary if it were to evolve as a single star\n",
      "    \n",
      "    m_max : `float`\n",
      "        kwarg which sets the maximum primary and secondary mass for sampling\n",
      "        NOTE: this value changes the range of the IMF and should *not* be used\n",
      "            as a means of selecting certain kstar types!\n",
      "    \n",
      "    m1_min : `float`\n",
      "        kwarg which sets the minimum primary mass for sampling\n",
      "        NOTE: this value changes the range of the IMF and should *not* be used\n",
      "            as a means of selecting certain kstar types!\n",
      "    \n",
      "    m2_min : `float`\n",
      "        kwarg which sets the minimum secondary mass for sampling\n",
      "        the secondary as uniform in mass_2 between m2_min and mass_1\n",
      "    \n",
      "    msort : `float`\n",
      "        Stars with M>msort can have different pairing and sampling of companions\n",
      "    \n",
      "    qmin_msort : `float`\n",
      "        Same as qmin for M>msort\n",
      "    \n",
      "    m2_min_msort : `float`\n",
      "        Same as m2_min for M>msort\n",
      "    \n",
      "    SF_start : `float`\n",
      "        Time in the past when star formation initiates in Myr\n",
      "    \n",
      "    SF_duration : `float`\n",
      "        Duration of constant star formation beginning from SF_Start in Myr\n",
      "    \n",
      "    binfrac_model : `str or float`\n",
      "        Model for binary fraction; choices include: vanHaaften or a fraction where 1.0 is 100% binaries\n",
      "    \n",
      "    binfrac_model_msort : `str or float`\n",
      "        Same as binfrac_model for M>msort\n",
      "    \n",
      "    met : `float`\n",
      "        Sets the metallicity of the binary population where solar metallicity is zsun\n",
      "    \n",
      "    size : `int`\n",
      "        Size of the population to sample\n",
      "    \n",
      "    total_mass : `float`\n",
      "        Total mass to use as a target for sampling\n",
      "    \n",
      "    sampling_target : `str`\n",
      "        Which type of target to use for sampling (either \"size\" or \"total_mass\"), by default \"size\".\n",
      "        Note that `total_mass` must not be None when `sampling_target==\"total_mass\"`.\n",
      "    \n",
      "    trim_extra_samples : `str`\n",
      "        Whether to trim the sampled population so that the total mass sampled is as close as possible to\n",
      "        `total_mass`. Ignored when `sampling_target==size`.\n",
      "        Note that given the discrete mass of stars, this could mean your sample is off by 300\n",
      "        solar masses in the worst case scenario (of a 150+150 binary being sampled). In reality the majority\n",
      "        of cases track the target total mass to within a solar mass.        \n",
      "    \n",
      "    zsun : `float`\n",
      "        optional kwarg for setting effective radii, default is 0.02\n",
      "    \n",
      "    Returns\n",
      "    -------\n",
      "    InitialBinaryTable : `pandas.DataFrame`\n",
      "        DataFrame in the format of the InitialBinaryTable\n",
      "    \n",
      "    mass_singles : `float`\n",
      "        Total mass in single stars needed to generate population\n",
      "    \n",
      "    mass_binaries : `float`\n",
      "        Total mass in binaries needed to generate population\n",
      "    \n",
      "    n_singles : `int`\n",
      "        Number of single stars needed to generate a population\n",
      "    \n",
      "    n_binaries : `int`\n",
      "        Number of binaries needed to generate a population\n",
      "\n"
     ]
    }
   ],
   "source": [
    "help(independent.get_independent_sampler)"
   ]
  },
  {
   "cell_type": "code",
   "execution_count": 3,
   "id": "fd1a4e10-8ff3-4b0c-9800-d9f6d4ffe66c",
   "metadata": {},
   "outputs": [],
   "source": [
    "final_kstar1 = [10, 11, 12]\n",
    "final_kstar2 = [0, 1]"
   ]
  },
  {
   "cell_type": "code",
   "execution_count": 4,
   "id": "6b232d4e-8fd6-46f8-a1be-aba6f2a463d0",
   "metadata": {},
   "outputs": [
    {
     "name": "stdout",
     "output_type": "stream",
     "text": [
      "Help on function sample_SFH in module cosmic.sample.sampler.independent:\n",
      "\n",
      "sample_SFH(self, SF_start=13700.0, SF_duration=0.0, met=0.02, size=None)\n",
      "    Sample an evolution time for each binary based on a user-specified\n",
      "    time at the start of star formation and the duration of star formation.\n",
      "    The default is a burst of star formation 13,700 Myr in the past.\n",
      "    \n",
      "    Parameters\n",
      "    ----------\n",
      "    SF_start : float\n",
      "        Time in the past when star formation initiates in Myr\n",
      "    SF_duration : float\n",
      "        Duration of constant star formation beginning from SF_Start in Myr\n",
      "    met : float\n",
      "        metallicity of the population [Z_sun = 0.02]\n",
      "        Default: 0.02\n",
      "    size : int, optional\n",
      "        number of evolution times to sample\n",
      "        NOTE: this is set in cosmic-pop call as Nstep\n",
      "    \n",
      "    Returns\n",
      "    -------\n",
      "    tphys : array\n",
      "        array of evolution times of size=size\n",
      "    metallicity : array\n",
      "        array of metallicities\n",
      "\n"
     ]
    }
   ],
   "source": [
    "help(independent.Sample.sample_SFH)"
   ]
  },
  {
   "cell_type": "code",
   "execution_count": 17,
   "id": "d3cdb0c2-0793-42fb-a1a2-937b5914345f",
   "metadata": {},
   "outputs": [
    {
     "name": "stderr",
     "output_type": "stream",
     "text": [
      "/Users/runqiuye/anaconda3/envs/cosmic/lib/python3.10/site-packages/cosmic/sample/sampler/independent.py:200: UserWarning: your supplied binfrac_model has been overwritten to 0.46 match Moe+2019\n",
      "  warnings.warn('your supplied binfrac_model has been overwritten to {} match Moe+2019'.format(binfrac_model))\n"
     ]
    }
   ],
   "source": [
    "InitialBinaries, mass_singles, mass_binaries, n_singles, n_binaries = InitialBinaryTable.sampler('independent', \n",
    "                                                                                                 final_kstar1, \n",
    "                                                                                                 final_kstar2, \n",
    "                                                                                                 binfrac_model='vanHaaften', \n",
    "                                                                                                 primary_model='kroupa01', \n",
    "                                                                                                 ecc_model='uniform', \n",
    "                                                                                                 porb_model='moe19', \n",
    "                                                                                                 SF_start=13700.0, \n",
    "                                                                                                 SF_duration=0.0, \n",
    "                                                                                                 met=0.02, \n",
    "                                                                                                 size=10000)"
   ]
  },
  {
   "cell_type": "code",
   "execution_count": 18,
   "id": "327a9be8-6587-46db-9d3e-ee1bf580383e",
   "metadata": {},
   "outputs": [
    {
     "name": "stdout",
     "output_type": "stream",
     "text": [
      "       kstar_1  kstar_2    mass_1    mass_2          porb       ecc  \\\n",
      "0          1.0      0.0  1.407090  0.278416  4.232467e+04  0.162856   \n",
      "1          0.0      0.0  0.603537  0.450256  5.681864e+05  0.272886   \n",
      "2          1.0      1.0  2.531629  0.872397  1.973345e+05  0.498532   \n",
      "3          0.0      0.0  0.547800  0.487403  7.270309e+01  0.853042   \n",
      "4          1.0      1.0  1.585139  1.230364  1.759765e+04  0.935898   \n",
      "...        ...      ...       ...       ...           ...       ...   \n",
      "10112      1.0      1.0  1.894791  0.760518  4.510815e+07  0.334611   \n",
      "10113      1.0      0.0  0.850831  0.231603  6.928427e+06  0.325193   \n",
      "10114      0.0      0.0  0.611341  0.171413  5.266072e+07  0.477749   \n",
      "10115      1.0      0.0  0.969693  0.192278  2.776929e+06  0.052975   \n",
      "10116      1.0      1.0  1.866482  0.839846  2.131060e+04  0.847725   \n",
      "\n",
      "       metallicity   tphysf   mass0_1   mass0_2  ...  tacc_1  tacc_2  epoch_1  \\\n",
      "0             0.02  13700.0  1.407090  0.278416  ...     0.0     0.0      0.0   \n",
      "1             0.02  13700.0  0.603537  0.450256  ...     0.0     0.0      0.0   \n",
      "2             0.02  13700.0  2.531629  0.872397  ...     0.0     0.0      0.0   \n",
      "3             0.02  13700.0  0.547800  0.487403  ...     0.0     0.0      0.0   \n",
      "4             0.02  13700.0  1.585139  1.230364  ...     0.0     0.0      0.0   \n",
      "...            ...      ...       ...       ...  ...     ...     ...      ...   \n",
      "10112         0.02  13700.0  1.894791  0.760518  ...     0.0     0.0      0.0   \n",
      "10113         0.02  13700.0  0.850831  0.231603  ...     0.0     0.0      0.0   \n",
      "10114         0.02  13700.0  0.611341  0.171413  ...     0.0     0.0      0.0   \n",
      "10115         0.02  13700.0  0.969693  0.192278  ...     0.0     0.0      0.0   \n",
      "10116         0.02  13700.0  1.866482  0.839846  ...     0.0     0.0      0.0   \n",
      "\n",
      "       epoch_2  tms_1  tms_2  bhspin_1  bhspin_2  tphys  binfrac  \n",
      "0          0.0    0.0    0.0       0.0       0.0    0.0     0.46  \n",
      "1          0.0    0.0    0.0       0.0       0.0    0.0     0.46  \n",
      "2          0.0    0.0    0.0       0.0       0.0    0.0     0.46  \n",
      "3          0.0    0.0    0.0       0.0       0.0    0.0     0.46  \n",
      "4          0.0    0.0    0.0       0.0       0.0    0.0     0.46  \n",
      "...        ...    ...    ...       ...       ...    ...      ...  \n",
      "10112      0.0    0.0    0.0       0.0       0.0    0.0     0.46  \n",
      "10113      0.0    0.0    0.0       0.0       0.0    0.0     0.46  \n",
      "10114      0.0    0.0    0.0       0.0       0.0    0.0     0.46  \n",
      "10115      0.0    0.0    0.0       0.0       0.0    0.0     0.46  \n",
      "10116      0.0    0.0    0.0       0.0       0.0    0.0     0.46  \n",
      "\n",
      "[10117 rows x 38 columns]\n"
     ]
    }
   ],
   "source": [
    "print(InitialBinaries)"
   ]
  },
  {
   "cell_type": "code",
   "execution_count": 28,
   "id": "b250d5ae-1141-4181-8eb4-32c9b62d098a",
   "metadata": {},
   "outputs": [
    {
     "data": {
      "image/png": "[encoded data removed]",
      "text/plain": [
       "<Figure size 1200x400 with 2 Axes>"
      ]
     },
     "metadata": {},
     "output_type": "display_data"
    }
   ],
   "source": [
    "import numpy as np\n",
    "fig, axs = plt.subplots(1, 2, figsize=(12, 4))\n",
    "axs[0].hist(np.log10(InitialBinaries['mass_1']), bins=100, histtype='step', linewidth=2, label='primary mass', density=True)\n",
    "axs[0].hist(np.log10(InitialBinaries['mass_2']), bins=100, histtype='step', linewidth=2, label='companion mass', density=True)\n",
    "axs[0].set_yscale('log')\n",
    "\n",
    "# Display the plot\n",
    "axs[0].set_xlabel(r'$M/M_{\\odot}$')\n",
    "axs[0].set_ylabel('Normalized Frequency')\n",
    "axs[0].legend()\n",
    "\n",
    "axs[1].hist(np.log10(InitialBinaries['porb']), bins=100, histtype='step', linewidth=2, density=True)\n",
    "axs[1].set_xlabel(r'$P_{\\mathrm{orb}}$/day')\n",
    "axs[1].set_ylabel('Normalized Frequency')\n",
    "# axs[1].set_xscale('log')\n",
    "# axs[1].set_xlim(0.1, 10**10)\n",
    "\n",
    "plt.show()"
   ]
  },
  {
   "cell_type": "code",
   "execution_count": 8,
   "id": "c75f8fe6-06d1-48cf-be45-0702da5d895a",
   "metadata": {},
   "outputs": [
    {
     "name": "stdout",
     "output_type": "stream",
     "text": [
      "25294.18143606924\n",
      "51335.79859564988\n",
      "63779\n",
      "36221\n"
     ]
    }
   ],
   "source": [
    "print(mass_singles)\n",
    "print(mass_binaries)\n",
    "print(n_singles)\n",
    "print(n_binaries)"
   ]
  },
  {
   "cell_type": "code",
   "execution_count": 9,
   "id": "429aa48a-d05c-4d3d-9fc8-b90a457db9e8",
   "metadata": {},
   "outputs": [],
   "source": [
    "from cosmic.sample.sampler import multidim"
   ]
  },
  {
   "cell_type": "code",
   "execution_count": 10,
   "id": "d180395a-9e72-4006-92ce-9f382694ac10",
   "metadata": {},
   "outputs": [
    {
     "name": "stdout",
     "output_type": "stream",
     "text": [
      "Help on function get_multidim_sampler in module cosmic.sample.sampler.multidim:\n",
      "\n",
      "get_multidim_sampler(final_kstar1, final_kstar2, rand_seed, nproc, SF_start, SF_duration, met, size, **kwargs)\n",
      "    adapted version of Maxwell Moe's IDL code that generates a population of single and binary stars\n",
      "    \n",
      "    Below is the adapted version of Maxwell Moe's IDL code\n",
      "    that generates a population of single and binary stars\n",
      "    based on the paper Mind your P's and Q's\n",
      "    By Maxwell Moe and Rosanne Di Stefano\n",
      "    \n",
      "    The python code has been adopted by Mads Sørensen\n",
      "    \n",
      "    Version history:\n",
      "    V. 0.1; 2017/02/03\n",
      "    By Mads Sørensen\n",
      "    - This is a pure adaption from IDL to Python.\n",
      "    - The function idl_tabulate is similar to\n",
      "    the IDL function int_tabulated except, this function seems to be slightly\n",
      "    more exact in its solution.\n",
      "    Therefore, relative to the IDL code, there are small numerical differences.\n",
      "    \n",
      "    Comments below beginning with ; is the original nodes by Maxwell Moe.\n",
      "    Please read these careful for understanding the script.\n",
      "    ; NOTE - This version produces only the statistical distributions of\n",
      "    ;        single stars, binaries, and inner binaries in hierarchical triples.\n",
      "    ;        Outer tertiaries in hierarchical triples are NOT generated.\n",
      "    ;        Moreover, given a set of companions, all with period P to\n",
      "    ;        primary mass M1, this version currently uses an approximation to\n",
      "    ;        determine the fraction of those companions that are inner binaries\n",
      "    ;        vs. outer triples. Nevertheless, this approximation reproduces\n",
      "    ;        the overall multiplicity statistics.\n",
      "    ; Step 1 - Tabulate probably density functions of periods,\n",
      "    ;          mass ratios, and eccentricities based on\n",
      "    ;          analytic fits to corrected binary star populations.\n",
      "    ; Step 2 - Implement Monte Carlo method to generate stellar\n",
      "    ;          population from those density functions.\n",
      "    \n",
      "    Parameters\n",
      "    ----------\n",
      "    final_kstar1 : `list` or `int`\n",
      "        Int or list of final kstar1\n",
      "    \n",
      "    final_kstar2 : `list` or `int`\n",
      "        Int or list of final kstar2\n",
      "    \n",
      "    rand_seed : `int`\n",
      "        Int to seed random number generator\n",
      "    \n",
      "    nproc : `int`\n",
      "        Number of processors to use to generate population\n",
      "    \n",
      "    SF_start : `float`\n",
      "            Time in the past when star formation initiates in Myr\n",
      "    \n",
      "    SF_duration : `float`\n",
      "            Duration of constant star formation beginning from SF_Start in Myr\n",
      "    \n",
      "    met : `float`\n",
      "        Sets the metallicity of the binary population where solar metallicity is 0.02\n",
      "    \n",
      "    size : `int`\n",
      "        Size of the population to sample\n",
      "    \n",
      "    **porb_lo : `float`\n",
      "        Lower limit in days for the orbital period distribution\n",
      "    \n",
      "    **porb_hi: `float`\n",
      "        Upper limit in days for the orbital period distribution\n",
      "    \n",
      "    Returns\n",
      "    -------\n",
      "    InitialBinaryTable : `pandas.DataFrame`\n",
      "        DataFrame in the format of the InitialBinaryTable\n",
      "    \n",
      "    mass_singles : `float`\n",
      "        Total mass in single stars needed to generate population\n",
      "    \n",
      "    mass_binaries : `float`\n",
      "        Total mass in binaries needed to generate population\n",
      "    \n",
      "    n_singles : `int`\n",
      "        Number of single stars needed to generate a population\n",
      "    \n",
      "    n_binaries : `int`\n",
      "        Number of binaries needed to generate a population\n",
      "\n"
     ]
    }
   ],
   "source": [
    "help(multidim.get_multidim_sampler)"
   ]
  },
  {
   "cell_type": "code",
   "execution_count": 11,
   "id": "4635086c-b2aa-4353-a44c-cba91e04f186",
   "metadata": {},
   "outputs": [],
   "source": [
    "InitialBinaries, mass_singles, mass_binaries, n_singles, n_binaries = InitialBinaryTable.sampler('multidim', \n",
    "                                                                                                 final_kstar1=[10,11,12], \n",
    "                                                                                                 final_kstar2=[0, 1], \n",
    "                                                                                                 rand_seed=2, \n",
    "                                                                                                 nproc=1, \n",
    "                                                                                                 SF_start=13700.0, \n",
    "                                                                                                 SF_duration=0.0, \n",
    "                                                                                                 met=0.02, \n",
    "                                                                                                 size=10)"
   ]
  },
  {
   "cell_type": "code",
   "execution_count": 12,
   "id": "5da38e53-6705-407d-baf5-53d30d253595",
   "metadata": {},
   "outputs": [
    {
     "name": "stdout",
     "output_type": "stream",
     "text": [
      "   kstar_1  kstar_2    mass_1    mass_2          porb       ecc  metallicity  \\\n",
      "0      1.0      0.0  1.199814  0.200592  2.806303e+02  0.494893         0.02   \n",
      "1      1.0      1.0  3.686712  0.806328  1.610270e+05  0.829034         0.02   \n",
      "2      1.0      0.0  0.858199  0.480240  2.550861e+04  0.372737         0.02   \n",
      "3      1.0      0.0  4.525516  0.609651  1.932132e+01  0.255974         0.02   \n",
      "4      1.0      1.0  0.900127  0.755146  6.763405e+03  0.803228         0.02   \n",
      "5      0.0      0.0  0.550102  0.293160  1.126286e+05  0.618357         0.02   \n",
      "6      0.0      0.0  0.581462  0.178872  5.743146e+04  0.808986         0.02   \n",
      "7      1.0      1.0  0.974390  0.881366  2.533403e+01  0.126290         0.02   \n",
      "8      0.0      0.0  0.625670  0.288596  1.506518e+05  0.814666         0.02   \n",
      "9      0.0      0.0  0.544196  0.513049  7.104653e+06  0.642203         0.02   \n",
      "\n",
      "    tphysf   mass0_1   mass0_2  ...  tacc_1  tacc_2  epoch_1  epoch_2  tms_1  \\\n",
      "0  13700.0  1.199814  0.200592  ...     0.0     0.0      0.0      0.0    0.0   \n",
      "1  13700.0  3.686712  0.806328  ...     0.0     0.0      0.0      0.0    0.0   \n",
      "2  13700.0  0.858199  0.480240  ...     0.0     0.0      0.0      0.0    0.0   \n",
      "3  13700.0  4.525516  0.609651  ...     0.0     0.0      0.0      0.0    0.0   \n",
      "4  13700.0  0.900127  0.755146  ...     0.0     0.0      0.0      0.0    0.0   \n",
      "5  13700.0  0.550102  0.293160  ...     0.0     0.0      0.0      0.0    0.0   \n",
      "6  13700.0  0.581462  0.178872  ...     0.0     0.0      0.0      0.0    0.0   \n",
      "7  13700.0  0.974390  0.881366  ...     0.0     0.0      0.0      0.0    0.0   \n",
      "8  13700.0  0.625670  0.288596  ...     0.0     0.0      0.0      0.0    0.0   \n",
      "9  13700.0  0.544196  0.513049  ...     0.0     0.0      0.0      0.0    0.0   \n",
      "\n",
      "   tms_2  bhspin_1  bhspin_2  tphys   binfrac  \n",
      "0    0.0       0.0       0.0    0.0  0.413086  \n",
      "1    0.0       0.0       0.0    0.0  0.614692  \n",
      "2    0.0       0.0       0.0    0.0  0.404277  \n",
      "3    0.0       0.0       0.0    0.0  0.680490  \n",
      "4    0.0       0.0       0.0    0.0  0.404874  \n",
      "5    0.0       0.0       0.0    0.0  0.337897  \n",
      "6    0.0       0.0       0.0    0.0  0.347613  \n",
      "7    0.0       0.0       0.0    0.0  0.406506  \n",
      "8    0.0       0.0       0.0    0.0  0.360455  \n",
      "9    0.0       0.0       0.0    0.0  0.336005  \n",
      "\n",
      "[10 rows x 38 columns]\n"
     ]
    }
   ],
   "source": [
    "print(InitialBinaries)"
   ]
  },
  {
   "cell_type": "code",
   "execution_count": 13,
   "id": "72f0666e-854a-4959-8047-c8915c1d35fe",
   "metadata": {},
   "outputs": [],
   "source": [
    "from cosmic.evolve import Evolve"
   ]
  },
  {
   "cell_type": "code",
   "execution_count": 14,
   "id": "b899ea8b-8f3f-421f-8372-45dc6ec85164",
   "metadata": {},
   "outputs": [],
   "source": [
    "BSEDict = {'xi': 1.0, 'bhflag': 1, 'neta': 0.5, 'windflag': 3, 'wdflag': 1, 'alpha1': 1.0, \n",
    "           'pts1': 0.001, 'pts3': 0.02, 'pts2': 0.01, 'epsnov': 0.001, 'hewind': 0.5, 'ck': 1000, \n",
    "           'bwind': 0.0, 'lambdaf': 0.0, 'mxns': 3.0, 'beta': -1.0, 'tflag': 1, 'acc2': 1.5, \n",
    "           'grflag' : 1, 'remnantflag': 4, 'ceflag': 0, 'eddfac': 1.0, 'ifflag': 0, 'bconst': 3000, \n",
    "           'sigma': 265.0, 'gamma': -2.0, 'pisn': 45.0, \n",
    "           'natal_kick_array' : [[-100.0,-100.0,-100.0,-100.0,0.0], [-100.0,-100.0,-100.0,-100.0,0.0]], \n",
    "           'bhsigmafrac' : 1.0, 'polar_kick_angle' : 90, \n",
    "           'qcrit_array' : [0.0,0.0,0.0,0.0,0.0,0.0,0.0,0.0,0.0,0.0,0.0,0.0,0.0,0.0,0.0,0.0], \n",
    "           'cekickflag' : 2, 'cehestarflag' : 0, 'cemergeflag' : 0, 'ecsn' : 2.25, 'ecsn_mlow' : 1.6, \n",
    "           'aic' : 1, 'ussn' : 0, 'sigmadiv' :-20.0, 'qcflag' : 1, 'eddlimflag' : 0, \n",
    "           'fprimc_array' : [2.0/21.0,2.0/21.0,2.0/21.0,2.0/21.0,2.0/21.0,2.0/21.0,2.0/21.0,2.0/21.0,2.0/21.0,2.0/21.0,2.0/21.0,2.0/21.0,2.0/21.0,2.0/21.0,2.0/21.0,2.0/21.0], \n",
    "           'bhspinflag' : 0, 'bhspinmag' : 0.0, 'rejuv_fac' : 1.0, 'rejuvflag' : 0, 'htpmb' : 1, \n",
    "           'ST_cr' : 1, 'ST_tide' : 1, 'bdecayfac' : 1, 'rembar_massloss' : 0.5, 'kickflag' : 0, \n",
    "           'zsun' : 0.019, 'bhms_coll_flag' : 0, 'don_lim' : -1, 'acc_lim' : -1, 'rtmsflag' : 0, \n",
    "           'wd_mass_lim' : 1}"
   ]
  },
  {
   "cell_type": "code",
   "execution_count": 15,
   "id": "f0444c23-19db-45de-a37f-c897ec4dddc0",
   "metadata": {},
   "outputs": [],
   "source": [
    "bpp, bcm, initC, kick_info  = Evolve.evolve(initialbinarytable=InitialBinaries, BSEDict=BSEDict)"
   ]
  },
  {
   "cell_type": "code",
   "execution_count": 16,
   "id": "acda42b0-0a05-440e-9553-77075aed93f5",
   "metadata": {},
   "outputs": [
    {
     "name": "stdout",
     "output_type": "stream",
     "text": [
      "     tphys  kstar_1   mass0_1    mass_1       lum_1     rad_1        teff_1  \\\n",
      "0      0.0      1.0  1.199814  1.199814    1.632498  1.139473   6139.467436   \n",
      "0  13700.0     10.0  0.376148  0.376148    0.000128  0.016420   4815.166605   \n",
      "1      0.0      1.0  3.686712  3.686712  172.932854  2.235244  14062.954361   \n",
      "1  13700.0     11.0  0.826031  0.826031    0.000003  0.010013   2445.028911   \n",
      "2      0.0      1.0  0.858199  0.858199    0.323720  0.769997   4983.879703   \n",
      "2  13700.0      1.0  0.858199  0.858199    0.623389  0.927370   5349.743762   \n",
      "3      0.0      1.0  4.525516  4.525516  367.983475  2.508949  16031.743071   \n",
      "3  13700.0     11.0  0.992039  0.992039    0.000004  0.008148   2797.013176   \n",
      "4      0.0      1.0  0.900127  0.900127    0.408229  0.800520   5179.758937   \n",
      "4  13700.0      1.0  0.900127  0.900127    0.947097  1.073555   5520.215660   \n",
      "\n",
      "    massc_1    radc_1        menv_1  ...          porb           sep  \\\n",
      "0  0.000000  0.000000  8.201288e-03  ...  2.806303e+02    201.740428   \n",
      "0  0.376148  0.016420  1.000000e-10  ...  6.930099e-01      2.742734   \n",
      "1  0.000000  0.000000  1.000000e-10  ...  1.610270e+05  20546.178672   \n",
      "1  0.826031  0.010013  1.000000e-10  ...  1.177686e+06  55280.969232   \n",
      "2  0.000000  0.000000  4.852384e-02  ...  2.550861e+04   4017.377345   \n",
      "2  0.000000  0.000000  5.356895e-02  ...  2.550861e+04   4017.377345   \n",
      "3  0.000000  0.000000  1.000000e-10  ...  1.932132e+01     52.259020   \n",
      "3  0.992039  0.008148  1.000000e-10  ...  0.000000e+00      0.000000   \n",
      "4  0.000000  0.000000  4.388299e-02  ...  6.763405e+03   1779.721668   \n",
      "4  0.000000  0.000000  5.106366e-02  ...  6.763405e+03   1779.721667   \n",
      "\n",
      "        ecc  B_1  B_2  SN_1  SN_2  bin_state  merger_type  bin_num  \n",
      "0  0.494893  0.0  0.0   0.0   0.0          0         -001        0  \n",
      "0  0.000000  0.0  0.0   0.0   0.0          0         -001        0  \n",
      "1  0.829034  0.0  0.0   0.0   0.0          0         -001        1  \n",
      "1  0.825756  0.0  0.0   0.0   0.0          0         -001        1  \n",
      "2  0.372737  0.0  0.0   0.0   0.0          0         -001        2  \n",
      "2  0.372737  0.0  0.0   0.0   0.0          0         -001        2  \n",
      "3  0.255974  0.0  0.0   0.0   0.0          0         -001        3  \n",
      "3 -1.000000  0.0  0.0   0.0   0.0          1         0200        3  \n",
      "4  0.803228  0.0  0.0   0.0   0.0          0         -001        4  \n",
      "4  0.803228  0.0  0.0   0.0   0.0          0         -001        4  \n",
      "\n",
      "[10 rows x 39 columns]\n",
      "Index(['tphys', 'kstar_1', 'mass0_1', 'mass_1', 'lum_1', 'rad_1', 'teff_1',\n",
      "       'massc_1', 'radc_1', 'menv_1', 'renv_1', 'epoch_1', 'omega_spin_1',\n",
      "       'deltam_1', 'RRLO_1', 'kstar_2', 'mass0_2', 'mass_2', 'lum_2', 'rad_2',\n",
      "       'teff_2', 'massc_2', 'radc_2', 'menv_2', 'renv_2', 'epoch_2',\n",
      "       'omega_spin_2', 'deltam_2', 'RRLO_2', 'porb', 'sep', 'ecc', 'B_1',\n",
      "       'B_2', 'SN_1', 'SN_2', 'bin_state', 'merger_type', 'bin_num'],\n",
      "      dtype='object')\n"
     ]
    }
   ],
   "source": [
    "print(bcm.iloc[:10])\n",
    "print(bcm.columns)"
   ]
  },
  {
   "cell_type": "code",
   "execution_count": null,
   "id": "c963a032-19f6-4fc8-aef5-79a1f3e04a0c",
   "metadata": {},
   "outputs": [],
   "source": []
  }
 ],
 "metadata": {
  "kernelspec": {
   "display_name": "Python 3 (ipykernel)",
   "language": "python",
   "name": "python3"
  },
  "language_info": {
   "codemirror_mode": {
    "name": "ipython",
    "version": 3
   },
   "file_extension": ".py",
   "mimetype": "text/x-python",
   "name": "python",
   "nbconvert_exporter": "python",
   "pygments_lexer": "ipython3",
   "version": "3.10.14"
  }
 },
 "nbformat": 4,
 "nbformat_minor": 5
}
