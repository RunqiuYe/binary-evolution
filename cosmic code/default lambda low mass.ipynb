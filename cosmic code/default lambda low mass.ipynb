{
 "cells": [
  {
   "cell_type": "code",
   "execution_count": 1,
   "id": "a3be2a10-6296-4584-8e44-e481117def37",
   "metadata": {},
   "outputs": [],
   "source": [
    "from cosmic.sample.initialbinarytable import InitialBinaryTable\n",
    "from cosmic.evolve import Evolve\n",
    "from cosmic.utils import convert_kstar_evol_type\n",
    "from cosmic.plotting import evolve_and_plot\n",
    "\n",
    "import numpy as np\n",
    "import matplotlib.pyplot as plt\n",
    "import math\n",
    "import tqdm"
   ]
  },
  {
   "cell_type": "code",
   "execution_count": 2,
   "id": "51df6629-e0be-44ac-9388-c37128b3f28c",
   "metadata": {},
   "outputs": [],
   "source": [
    "# Helper functions and variables for unit conversions\n",
    "\n",
    "def aui_to_porb(aui, m_tot):\n",
    "    # aui: a list of values, initial separation in AU\n",
    "    # m_tot: a list of values, total mass in M_sun\n",
    "    # result: a list of values, orbital period in given condition in days\n",
    "    res = []\n",
    "    for i in range(len(aui)):\n",
    "        res.append((1/m_tot[i]**0.5) * (aui[i]**1.5) * 365)\n",
    "    return res\n",
    "\n",
    "# Used to convert separation in R_sun into AU\n",
    "unit_factor = 1 / 215.032\n",
    "\n",
    "# Helper function: given an array of data and an array of target,\n",
    "# return an array of index that is nearest to the target value.\n",
    "import math \n",
    "def findNearestList(data, targetList):\n",
    "    res = []\n",
    "    for num in targetList:\n",
    "        res.append(findNearest(data, num))\n",
    "    return res\n",
    "\n",
    "def findNearest(data, target):\n",
    "    n = len(data)\n",
    "    res = -1\n",
    "    minDiff = 10**5\n",
    "    for i in range(n):\n",
    "        if data[i] == 10**(-5):\n",
    "            continue\n",
    "        if abs(target - data[i]) <= minDiff:\n",
    "            res = i\n",
    "            minDiff = abs(target - data[i])\n",
    "    return res"
   ]
  },
  {
   "cell_type": "code",
   "execution_count": 3,
   "id": "a5928a90-5b54-4eea-b76c-bad402a6f636",
   "metadata": {},
   "outputs": [],
   "source": [
    "# Default BSEDict\n",
    "BSEDict = {'xi': 1.0, 'bhflag': 1, 'neta': 0.5, 'windflag': 3, 'wdflag': 1, 'alpha1': 1.0, 'pts1': 0.001, \n",
    "           'pts3': 0.02, 'pts2': 0.01, 'epsnov': 0.001, 'hewind': 0.5, 'ck': 1000, 'bwind': 0.0, 'lambdaf': 0.0, \n",
    "           'mxns': 3.0, 'beta': -1.0, 'tflag': 1, 'acc2': 1.5, 'grflag' : 1, 'remnantflag': 4, 'ceflag': 0, \n",
    "           'eddfac': 1.0, 'ifflag': 0, 'bconst': 3000, 'sigma': 265.0, 'gamma': -2.0, 'pisn': 45.0, \n",
    "           'natal_kick_array' : [[-100.0,-100.0,-100.0,-100.0,0.0], [-100.0,-100.0,-100.0,-100.0,0.0]], \n",
    "           'bhsigmafrac' : 1.0, 'polar_kick_angle' : 90, \n",
    "           'qcrit_array' : [0.0,0.0,0.0,0.0,0.0,0.0,0.0,0.0,0.0,0.0,0.0,0.0,0.0,0.0,0.0,0.0], \n",
    "           'cekickflag' : 2, 'cehestarflag' : 0, 'cemergeflag' : 0, 'ecsn' : 2.25, 'ecsn_mlow' : 1.6, \n",
    "           'aic' : 1, 'ussn' : 0, 'sigmadiv' :-20.0, 'qcflag' : 1, 'eddlimflag' : 0, \n",
    "           'fprimc_array' : [2.0/21.0,2.0/21.0,2.0/21.0,2.0/21.0,2.0/21.0,2.0/21.0,2.0/21.0,2.0/21.0,2.0/21.0,2.0/21.0,2.0/21.0,2.0/21.0,2.0/21.0,2.0/21.0,2.0/21.0,2.0/21.0], \n",
    "           'bhspinflag' : 0, 'bhspinmag' : 0.0, 'rejuv_fac' : 1.0, 'rejuvflag' : 0, 'htpmb' : 1, 'ST_cr' : 1, \n",
    "           'ST_tide' : 1, 'bdecayfac' : 1, 'rembar_massloss' : 0.5, 'kickflag' : 0, 'zsun' : 0.014, 'bhms_coll_flag' : 0, \n",
    "           'don_lim' : -1, 'acc_lim' : -1, 'rtmsflag' : 0, 'wd_mass_lim': 1}"
   ]
  },
  {
   "cell_type": "code",
   "execution_count": 4,
   "id": "f156594f-9e4e-44da-90eb-6986375d96cf",
   "metadata": {},
   "outputs": [],
   "source": [
    "NUM_DICT = 2000\n",
    "NUM_SEP = 400\n",
    "\n",
    "MASS_1 = 1.5\n",
    "MASS_2 = 1\n",
    "MASS_TOT = 2.5\n",
    "\n",
    "ECC = 0\n",
    "\n",
    "SEP_START = 2\n",
    "SEP_END = 8\n",
    "\n",
    "LAMBDA_START = -100\n",
    "LAMBDA_END = 0\n",
    "\n",
    "SOLAR_MET = 0.02\n",
    "\n",
    "TPHYS_LIM = 4000"
   ]
  },
  {
   "cell_type": "code",
   "execution_count": 5,
   "id": "be74dd0c-b5d4-4ae2-8cbe-6c6e971ad3e9",
   "metadata": {},
   "outputs": [],
   "source": [
    "# List of initial conditions for simulation later\n",
    "\n",
    "m1_list = [MASS_1 for i in range(NUM_SEP)]\n",
    "m2_list = [MASS_2 for i in range(NUM_SEP)]\n",
    "mtot_list = [MASS_TOT for i in range(NUM_SEP)]\n",
    "ai_list = np.linspace(SEP_START, SEP_END, NUM_SEP)\n",
    "porb_i_list = aui_to_porb(ai_list, mtot_list)\n",
    "\n",
    "ecc_list = [ECC for i in range(NUM_SEP)]\n",
    "tphysf_list = [TPHYS_LIM for i in range(NUM_SEP)]\n",
    "kstar1_list = [1 for i in range(NUM_SEP)]\n",
    "kstar2_list = [1 for i in range(NUM_SEP)]\n",
    "metallicity_list = [SOLAR_MET for i in range(NUM_SEP)] # solar metallicity"
   ]
  },
  {
   "cell_type": "code",
   "execution_count": 6,
   "id": "d45da5b2-31f3-4afe-be2f-43f39b31242b",
   "metadata": {},
   "outputs": [],
   "source": [
    "binary_set = InitialBinaryTable.InitialBinaries(m1=m1_list, m2=m2_list, \n",
    "                                                porb=porb_i_list, ecc=ecc_list, \n",
    "                                                tphysf=tphysf_list, kstar1=kstar1_list, kstar2=kstar2_list, \n",
    "                                                metallicity=metallicity_list)"
   ]
  },
  {
   "cell_type": "markdown",
   "id": "f7f23760-41f1-476e-901a-4dd8185fa1ea",
   "metadata": {},
   "source": [
    "Now we calculate the value of $\\lambda_{\\mathrm{CE}}$ based on the following formulas.\n",
    "\n",
    "$$\n",
    "\\lambda_{\\mathrm{CE}} = \n",
    "\\begin{cases}\n",
    "2 \\lambda_2 & (M_{\\mathrm{env}} = 0), \\\\\n",
    "2 \\lambda_2 + 2 M_{\\mathrm{env}}^{0.5} (\\lambda_1 - \\lambda_2) & (0 < M_{\\mathrm{env}} \\leq 1), \\\\\n",
    "2 \\lambda_1 & (M_{\\mathrm{env}} > 1).\n",
    "\\end{cases}\n",
    "$$\n",
    "\n",
    "For HG and GB stars:\n",
    "$$\n",
    "\\lambda_1 = \\min\\left( 0.80, \\frac{3}{2.4 + M^{-3/2}} - 0.15 \\lg L \\right).\n",
    "$$\n",
    "\n",
    "For CHeB, E-AGB, or TP-AGB stars:\n",
    "$$\n",
    "\\lambda_3 = \\min(0.9, 0.58 + 0.75 \\lg M) - 0.08 \\lg L\n",
    "$$\n",
    "and \n",
    "$$\n",
    "\\lambda_1 = \\begin{cases}\n",
    "\\min(0.8, 1.25 - 0.15 \\lg L, \\lambda_3) & \\text{CHeB, E-AGB}, \\\\\n",
    "\\max(-3.5-0.75 \\lg M + \\lg L, \\lambda_3) & \\text{TP-AGB}.\n",
    "\\end{cases}\n",
    "$$"
   ]
  },
  {
   "cell_type": "code",
   "execution_count": 7,
   "id": "797f9e22-f1f8-4464-81e9-34d1f0b439a4",
   "metadata": {},
   "outputs": [],
   "source": [
    "def lambda_CE(bpp_row, m1):\n",
    "    mass = bpp_row['mass_1']\n",
    "    lum = bpp_row['lum_1']\n",
    "    star = bpp_row['kstar_1']\n",
    "    menv = bpp_row['menv_1']\n",
    "    rad = bpp_row['rad_1']\n",
    "    rad_zams = mass if m1 <= 1 else mass ** 0.6\n",
    "\n",
    "    if menv >= 1:\n",
    "        if star == 2 or star == 3: \n",
    "            # If the star is HG or GB\n",
    "            lambda_1 = min(0.80, (3 / (2.4 + mass ** (-3/2))) - 0.15 * math.log(lum, 10))\n",
    "        elif star == 4 or star == 5 or star == 6:\n",
    "            # If the star is CHeB, E-AGB, or TP-AGB\n",
    "            lambda_3 = min(0.9, 0.58 + 0.75 * math.log(mass, 10)) - 0.08 * math.log(lum, 10)\n",
    "            if star == 4 or star == 5:\n",
    "                # If the star is CHeB or E-AGB\n",
    "                lambda_1 = min(0.8, 1.25 - 0.15 * math.log(lum, 10), lambda_3)\n",
    "            else:\n",
    "                # If the star is TP-AGB\n",
    "                lambda_1 = max(-3.5 - 0.75 * math.log(mass, 10) + math.log(lum, 10), lambda_3)\n",
    "        else:\n",
    "            # Should not reach here\n",
    "            lambda_1 = 0\n",
    "        return 2 * lambda_1\n",
    "        \n",
    "    elif 0 < menv < 1:\n",
    "        lambda_2 = 0.42 * (rad_zams / rad) ** 0.4\n",
    "        lambda_1 = min(0.80, (3 / (2.4 + mass ** (-3/2))) - 0.15 * math.log(lum, 10))\n",
    "        return 2 * (lambda_2 + menv**0.5 * (lambda_1 - lambda_2))\n",
    "    \n",
    "    else:\n",
    "        lambda_2 = 0.42 * (rad_zams / rad) ** 0.4\n",
    "        return lambda_2"
   ]
  },
  {
   "cell_type": "code",
   "execution_count": 8,
   "id": "be44b7ac-9acc-474f-ad91-df9ac718fc4c",
   "metadata": {},
   "outputs": [
    {
     "name": "stderr",
     "output_type": "stream",
     "text": [
      "100%|███████████████████████████████████████| 400/400 [00:00<00:00, 1145.16it/s]"
     ]
    },
    {
     "name": "stdout",
     "output_type": "stream",
     "text": [
      "[1.007049090539164, 1.0048130413971508, 1.002229715561533, 1.0002438532055755, 0.9978648264490797, 0.9957003199838728, 0.993565158482384, 0.9915091247818042, 0.9892481579679597, 0.9867054536767582, 0.9849954123619555, 0.9828672031240161, 0.9803389104091594, 0.9785983293330713, 0.9765503205235916, 0.9740343856344766, 0.9723143465580528, 0.9702907725151427, 0.9677849612399706, 0.9661405333932611, 0.9640814577974961, 0.961586012355646, 0.9600716450984369, 0.9579284188491042, 0.9559210857451602, 0.9537988429143032, 0.9518169026506544, 0.8731768121564202, 0.8719445639589699, 0.8702788325852077, 0.8687860958987087, 0.8675849548209741, 0.865851444422378, 0.8644298664829734, 0.8632645074459553, 0.8614519608124607, 0.8602477546269762, 0.8587628048183672, 0.8575032463743403, 0.8561029156660452, 0.8546251987311932, 0.8534204463837463, 0.8520733163925279, 0.850679636316171, 0.8493737169492295, 0.847848623031995, 0.8466656487698176, 0.8454157078149682, 0.8442757090777967, 0.8430554447441705, 0.8417025740478162, 0.8404743953961158, 0.8390668299760886, 0.8380356698919884, 0.8368233221183243, 0.8357669087143917, 0.8343718796875331, 0.8331944775567118, 0.8320516671810995, 0.8306936492710162, 0.8293791854987597, 0.8279063517151055, 0.8265998495888975, 0.8251467819389151, 0.823742473786875, 0.8224124967499421, 0.8210095673095122, 0.8196957400110184, 0.8183404584460756, 0.8169918079196558, 0.8154214876302847, 0.8143007624094593, 0.8128042895875575, 0.8113874665875414, 0.8083572252702436, 0.8044788352460626, 0.8015422044448657, 0.7985792825175402, 0.7945543205411093, 0.7915622309138408, 0.788510283580841, 0.7854320335034428, 0.7822705283135771, 0.7781392456826397, 0.7749657860939219, 0.771764064119868, 0.7685332825370594, 0.7652022982984792, 0.761593063026207, 0.7590086708980588, 0.7548212615521103, 0.7501986296791399, 0.7468264021553013, 0.7433554219427186, 0.7378073685699124, 0.7338160605577325, 0.729590429495905, 0.7251208963587138, 0.7203750672038597, 0.7153154641589266, 0.709982926518881, 0.7042664813948114, 0.6981811682154011, 0.6931036330333364, 0.6876946648674234, 0.6815597815082988, 0.6758536417230695, 0.6695394729114941, 0.6623846839599378, 0.6569051680415383, 0.6510688899344921, 0.644912732321043, 0.638328261717152, 0.6313645450358651, 0.6238769027581227, 0.6177523044060605, 0.6109432251814444, 0.6042809450503476, 0.5971499644856866, 0.5903555905730281, 0.5835438712522725, 0.5767691002789477, 0.5695223965037969, 0.5631955709128442, 0.5568617253111761, 0.0, 0.0, 0.0, 0.0, 0.0, 0.0, 0.0, 0.0, 0.0, 0.0, 0.0, 0.0, 0.0, 0.0, 0.0, 0.0, 0.0, 0.0, 0.0, 0.0, 0.0, 0.0, 0.0, 0.0, 0.0, 0.0, 0.0, 0.0, 0.0, 0.0, 0.0, 0.0, 0.0, 0.0, 0.0, 0.0, 0.0, 0.0, 0.0, 0.0, 0.0, 0.0, 0.0, 0.0, 0.0, 0.0, 0.0, 0.0, 0.0, 0.0, 0.0, 0.0, 0.0, 0.0, 0.0, 0.0, 0.0, 0.0, 0.0, 0.0, 0.0, 0.0, 0.0, 0.0, 0.0, 0.0, 0.0, 0.0, 0.0, 0.0, 0.0, 0.0, 0.0, 0.0, 0.0, 0.0, 0.0, 0.0, 0.0, 0.0, 0.0, 0.0, 0.0, 0.0, 0.0, 0.0, 0.0, 0.0, 0.0, 0.0, 0.0, 0.0, 0.0, 0.0, 0.0, 0.0, 0.0, 0.0, 0.0, 0.0, 0.0, 0.0, 0.0, 0.0, 0.0, 0.0, 0.0, 0.0, 0.0, 0.0, 0.0, 0.0, 0.0, 0.0, 0.0, 0.0, 0.0, 0.0, 0.0, 0.0, 0.0, 0.0, 0.0, 0.0, 0.0, 0.0, 0.0, 0.0, 0.0, 0.0, 0.0, 0.0, 0.0, 0.0, 0.0, 0.0, 0.0, 0.0, 0.0, 0.0, 0.0, 0.0, 0.0, 0.0, 0.0, 0.0, 0.0, 0.0, 0.0, 0.0, 0.0, 0.0, 0.0, 0.0, 0.0, 0.0, 0.0, 0.0, 0.0, 0.0, 0.0, 0.0, 0.0, 0.0, 0.0, 0.0, 0.0, 0.0, 0.0, 0.0, 0.0, 0.0, 0.0, 0.0, 0.0, 0.0, 0.0, 0.0, 0.0, 0.0, 0.0, 0.0, 0.0, 0.0, 0.0, 0.0, 0.0, 0.0, 0.0, 0.0, 0.0, 0.0, 0.0, 0.0, 0.0, 0.0, 0.0, 0.0, 0.0, 0.0, 0.0, 0.0, 0.0, 0.0, 0.0, 0.0, 0.0, 0.0, 0.0, 0.0, 0.0, 0.0, 0.0, 0.0, 0.0, 0.0, 0.0, 0.0, 0.0, 0.0, 0.0, 0.0, 0.0, 0.0, 0.0, 0.0, 0.0, 0.0, 0.0, 0.0, 0.0, 0.0, 0.0, 0.0, 0.0, 0.0, 0.0, 0.0, 0.0, 0.0, 0.0, 0.0, 0.0, 0.0, 0.0, 0.0, 0.0, 0.0, 0.0, 0.0, 0.0, 0.0, 0.0, 0.0, 0.0, 0.0, 0.0, 0.0, 0.0, 0.0, 0.0, 0.0, 0.0, 0.0, 0.0, 0.0, 0.0, 0.0, 0.0, 0.0, 0.0, 0.0, 0.0, 0.0, 0.0]\n"
     ]
    },
    {
     "name": "stderr",
     "output_type": "stream",
     "text": [
      "\n"
     ]
    }
   ],
   "source": [
    "data1 = np.zeros(NUM_SEP)\n",
    "\n",
    "bpp, bcm, initC, kick_info = Evolve.evolve(initialbinarytable=binary_set, BSEDict=BSEDict)\n",
    "bpp['sep in AU'] = bpp['sep'] * unit_factor\n",
    "\n",
    "for i in tqdm.tqdm(range(NUM_SEP)):\n",
    "    single_bpp = bpp.loc[i].copy()\n",
    "    cond1 = (single_bpp['evol_type']==7)\n",
    "    # cond2 = (single_bpp['evol_type']==8)\n",
    "    if len(single_bpp[(cond1)] > 0):\n",
    "        specific_row = single_bpp[(cond1)].iloc[0]\n",
    "        data1[i] = lambda_CE(specific_row, MASS_1)\n",
    "\n",
    "print(data1.tolist())"
   ]
  },
  {
   "cell_type": "code",
   "execution_count": 9,
   "id": "ae2f635d-5b31-4314-8020-21182a65b011",
   "metadata": {},
   "outputs": [
    {
     "data": {
      "image/png": "[encoded data removed]",
      "text/plain": [
       "<Figure size 640x480 with 1 Axes>"
      ]
     },
     "metadata": {},
     "output_type": "display_data"
    }
   ],
   "source": [
    "# Create the plot\n",
    "plt.plot(ai_list, data1)\n",
    "\n",
    "# Add titles and labels\n",
    "plt.xlabel(r'Initial separation $a_i$ (au)')\n",
    "plt.ylabel(r'$\\lambda_{\\mathrm{CE}}$')\n",
    "\n",
    "# Show the plot\n",
    "plt.show()"
   ]
  }
 ],
 "metadata": {
  "kernelspec": {
   "display_name": "Python 3 (ipykernel)",
   "language": "python",
   "name": "python3"
  },
  "language_info": {
   "codemirror_mode": {
    "name": "ipython",
    "version": 3
   },
   "file_extension": ".py",
   "mimetype": "text/x-python",
   "name": "python",
   "nbconvert_exporter": "python",
   "pygments_lexer": "ipython3",
   "version": "3.10.13"
  }
 },
 "nbformat": 4,
 "nbformat_minor": 5
}
