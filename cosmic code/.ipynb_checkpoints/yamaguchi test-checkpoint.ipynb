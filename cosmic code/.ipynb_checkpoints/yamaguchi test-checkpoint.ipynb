{
 "cells": [
  {
   "cell_type": "code",
   "execution_count": 1,
   "id": "78445d9c-8f06-44de-9f7f-a97663463784",
   "metadata": {},
   "outputs": [],
   "source": [
    "from cosmic.sample.initialbinarytable import InitialBinaryTable\n",
    "from cosmic.evolve import Evolve\n",
    "from cosmic.utils import convert_kstar_evol_type\n",
    "from cosmic.plotting import evolve_and_plot\n",
    "\n",
    "import numpy as np\n",
    "import matplotlib.pyplot as plt\n",
    "import tqdm"
   ]
  },
  {
   "cell_type": "code",
   "execution_count": 2,
   "id": "a5a39208-1cc1-4338-ae28-416f332ad0cc",
   "metadata": {},
   "outputs": [],
   "source": [
    "# Helper functions and variables for unit conversions\n",
    "\n",
    "def aui_to_porb(aui, m_tot):\n",
    "    # aui: a list of values, initial separation in AU\n",
    "    # m_tot: a list of values, total mass in M_sun\n",
    "    # result: a list of values, orbital period in given condition in days\n",
    "    res = []\n",
    "    for i in range(len(aui)):\n",
    "        res.append((1/m_tot[i]**0.5) * (aui[i]**1.5) * 365)\n",
    "    return res\n",
    "\n",
    "# Used to convert separation in R_sun into AU\n",
    "unit_factor = 1 / 215.032\n",
    "\n",
    "# Helper function: given an array of data and an array of target,\n",
    "# return an array of index that is nearest to the target value.\n",
    "import math \n",
    "def findNearestList(data, targetList):\n",
    "    res = []\n",
    "    for num in targetList:\n",
    "        res.append(findNearest(data, num))\n",
    "    return res\n",
    "\n",
    "def findNearest(data, target):\n",
    "    n = len(data)\n",
    "    res = -1\n",
    "    minDiff = 10**5\n",
    "    for i in range(n):\n",
    "        if data[i] == 10**(-5):\n",
    "            continue\n",
    "        if abs(target - data[i]) <= minDiff:\n",
    "            res = i\n",
    "            minDiff = abs(target - data[i])\n",
    "    return res"
   ]
  },
  {
   "cell_type": "code",
   "execution_count": 3,
   "id": "b7d8c950-a13b-46ca-823a-95a263a725a3",
   "metadata": {},
   "outputs": [],
   "source": [
    "# Default BSEDict\n",
    "BSEDict = {'xi': 1.0, 'bhflag': 1, 'neta': 0.5, 'windflag': 3, 'wdflag': 1, 'alpha1': 0.3, 'pts1': 0.001, \n",
    "           'pts3': 0.02, 'pts2': 0.01, 'epsnov': 0.001, 'hewind': 0.5, 'ck': 1000, 'bwind': 0.0, 'lambdaf': -70.0, \n",
    "           'mxns': 3.0, 'beta': -1.0, 'tflag': 1, 'acc2': 1.5, 'grflag' : 1, 'remnantflag': 4, 'ceflag': 0, \n",
    "           'eddfac': 1.0, 'ifflag': 0, 'bconst': 3000, 'sigma': 265.0, 'gamma': -2.0, 'pisn': 45.0, \n",
    "           'natal_kick_array' : [[-100.0,-100.0,-100.0,-100.0,0.0], [-100.0,-100.0,-100.0,-100.0,0.0]], \n",
    "           'bhsigmafrac' : 1.0, 'polar_kick_angle' : 90, \n",
    "           'qcrit_array' : [0.0,0.0,0.0,0.0,0.0,0.0,0.0,0.0,0.0,0.0,0.0,0.0,0.0,0.0,0.0,0.0], \n",
    "           'cekickflag' : 2, 'cehestarflag' : 0, 'cemergeflag' : 0, 'ecsn' : 2.25, 'ecsn_mlow' : 1.6, \n",
    "           'aic' : 1, 'ussn' : 0, 'sigmadiv' :-20.0, 'qcflag' : 1, 'eddlimflag' : 0, \n",
    "           'fprimc_array' : [2.0/21.0,2.0/21.0,2.0/21.0,2.0/21.0,2.0/21.0,2.0/21.0,2.0/21.0,2.0/21.0,2.0/21.0,2.0/21.0,2.0/21.0,2.0/21.0,2.0/21.0,2.0/21.0,2.0/21.0,2.0/21.0], \n",
    "           'bhspinflag' : 0, 'bhspinmag' : 0.0, 'rejuv_fac' : 1.0, 'rejuvflag' : 0, 'htpmb' : 1, 'ST_cr' : 1, \n",
    "           'ST_tide' : 1, 'bdecayfac' : 1, 'rembar_massloss' : 0.5, 'kickflag' : 0, 'zsun' : 0.014, 'bhms_coll_flag' : 0, \n",
    "           'don_lim' : -1, 'acc_lim' : -1, 'rtmsflag' : 0, 'wd_mass_lim': 1}"
   ]
  },
  {
   "cell_type": "code",
   "execution_count": 7,
   "id": "19da9753-22cf-4d45-a8b1-5eacf4ac75d9",
   "metadata": {},
   "outputs": [],
   "source": [
    "data = []\n",
    "i = 4.9\n",
    "while i <= 5.5:\n",
    "    binary_set = InitialBinaryTable.InitialBinaries(m1=7, m2=1, \n",
    "                                                porb=aui_to_porb([i], [8])[0], ecc=0, \n",
    "                                                tphysf=15000, kstar1=1, kstar2=1, \n",
    "                                                metallicity=0.02)\n",
    "    bpp, bcm, initC, kick_info = Evolve.evolve(initialbinarytable=binary_set, BSEDict=BSEDict)\n",
    "    bpp['sep in AU'] = bpp['sep'] * unit_factor\n",
    "    print(f'i = {i}')\n",
    "    print(bpp[['tphys', 'mass_1', 'kstar_1', 'kstar_2', 'sep in AU', 'evol_type']])\n",
    "    \n",
    "    cond1 = (bpp['evol_type'] == 8) # Select evol type to be common envelope ends\n",
    "    cond2 = (bpp['kstar_1'] <= 12) \n",
    "    cond3 = (bpp['kstar_1'] >= 10) # Select kstar_1 to be WD\n",
    "    cond4 = (bpp['kstar_2'] <= 1)\n",
    "    cond5 = (bpp['kstar_2'] >= 0) # Select kstar_2 to be MS\n",
    "\n",
    "    row = bpp.loc[(cond1) & (cond2) & (cond3) & (cond4) & (cond5)].groupby('bin_num').first()\n",
    "    data.append(row['sep in AU'])\n",
    "    i = i + 0.01"
   ]
  },
  {
   "cell_type": "code",
   "execution_count": 8,
   "id": "d3fb7889-0043-4893-acda-f739a82ab7f9",
   "metadata": {},
   "outputs": [
    {
     "data": {
      "text/plain": [
       "[<matplotlib.lines.Line2D at 0x7fe4c59e8a00>]"
      ]
     },
     "execution_count": 8,
     "metadata": {},
     "output_type": "execute_result"
    },
    {
     "data": {
      "image/png": "[encoded data removed]",
      "text/plain": [
       "<Figure size 640x480 with 1 Axes>"
      ]
     },
     "metadata": {},
     "output_type": "display_data"
    }
   ],
   "source": [
    "# print(data)\n",
    "L = [4.9+0.01*i for i in range(len(data))]\n",
    "plt.plot(L, data)"
   ]
  },
  {
   "cell_type": "code",
   "execution_count": null,
   "id": "4fb69d81-9ddc-45dc-a601-d642ce428f8d",
   "metadata": {},
   "outputs": [],
   "source": []
  }
 ],
 "metadata": {
  "kernelspec": {
   "display_name": "Python 3 (ipykernel)",
   "language": "python",
   "name": "python3"
  },
  "language_info": {
   "codemirror_mode": {
    "name": "ipython",
    "version": 3
   },
   "file_extension": ".py",
   "mimetype": "text/x-python",
   "name": "python",
   "nbconvert_exporter": "python",
   "pygments_lexer": "ipython3",
   "version": "3.10.13"
  }
 },
 "nbformat": 4,
 "nbformat_minor": 5
}
